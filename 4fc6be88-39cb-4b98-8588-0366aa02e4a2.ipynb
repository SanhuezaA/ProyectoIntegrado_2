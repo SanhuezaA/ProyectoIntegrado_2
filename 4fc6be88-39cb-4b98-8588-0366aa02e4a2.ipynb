{
 "cells": [
  {
   "cell_type": "markdown",
   "metadata": {},
   "source": [
    "# ¡Hola, Alejandro!  \n",
    "\n",
    "Mi nombre es Francisco Benavides, soy code reviewer de Tripleten y voy a revisar el proyecto que acabas de desarrollar.\n",
    "\n",
    "\n",
    "Cada ves que vea un error por primera vez, lo señalaré. Deberás encontrarlo y arreglarlo, ya que buscamos que te prepares para un trabajo real, en el cual tu líder de equipo hará lo mismo. Si no puedes solucionar el error, te brindaré algunos tips más especificos la proxima vez.\n",
    "\n",
    "Podrás encontrar mis comentarios más abajo - **por favor, no los muevas, no los modifiques ni los borres**.\n",
    "\n",
    "¿Cómo lo voy a hacer? Voy a leer cuidadosamente cada una de tus implementaciones que has llevado a cabo para complir con tu informe. Cada uno de mis comentarios tiene el siguiente código de colores:\n",
    "\n",
    "<div class=\"alert alert-block alert-success\">\n",
    "<b>Comentario del revisor</b> <a class=\"tocSkip\"></a>\n",
    "    \n",
    "Si todo está perfecto.\n",
    "</div>\n",
    "\n",
    "\n",
    "<div class=\"alert alert-block alert-warning\">\n",
    "<b>Comentario del revisor</b> <a class=\"tocSkip\"></a>\n",
    "    \n",
    "Si tu código está bien pero se puede mejorar o hay algún detalle que le hace falta.\n",
    "</div>\n",
    "\n",
    "\n",
    "<div class=\"alert alert-block alert-danger\">\n",
    "    \n",
    "<b>Comentario del revisor</b> <a class=\"tocSkip\"></a>\n",
    "    \n",
    "    \n",
    "Si de pronto hace falta algo o existe algún problema con tu código o conclusiones.\n",
    "</div>\n",
    "\n",
    "\n",
    "Si encuentras que es necesario, puedes responderme de esta forma: \n",
    "\n",
    "<div class=\"alert alert-block alert-info\">\n",
    "<b>Respuesta del estudiante</b> <a class=\"tocSkip\"></a>\n",
    "</div>\n",
    "\n",
    "Mucho éxito!"
   ]
  },
  {
   "cell_type": "code",
   "execution_count": 1,
   "metadata": {},
   "outputs": [],
   "source": [
    "import pandas as pd\n",
    "import matplotlib.pyplot as plt\n",
    "import numpy as np\n",
    "from scipy import stats\n",
    "from statsmodels.stats.proportion import proportions_ztest\n",
    "from scipy import stats as st\n",
    "import math as mth"
   ]
  },
  {
   "cell_type": "markdown",
   "metadata": {},
   "source": [
    "# Paso 1"
   ]
  },
  {
   "cell_type": "code",
   "execution_count": 2,
   "metadata": {},
   "outputs": [],
   "source": [
    "productos = pd.read_csv(\"/datasets/logs_exp_us.csv\", sep='\\t')"
   ]
  },
  {
   "cell_type": "markdown",
   "metadata": {},
   "source": [
    "# Paso 2"
   ]
  },
  {
   "cell_type": "code",
   "execution_count": 3,
   "metadata": {},
   "outputs": [
    {
     "name": "stdout",
     "output_type": "stream",
     "text": [
      "\n",
      "Valores faltantes en cada columna:\n",
      "EventName         0\n",
      "DeviceIDHash      0\n",
      "EventTimestamp    0\n",
      "ExpId             0\n",
      "dtype: int64\n",
      "\n",
      "Número de duplicados:\n",
      "413\n",
      "<class 'pandas.core.frame.DataFrame'>\n",
      "Int64Index: 244126 entries, 0 to 244125\n",
      "Data columns (total 4 columns):\n",
      " #   Column          Non-Null Count   Dtype \n",
      "---  ------          --------------   ----- \n",
      " 0   EventName       244126 non-null  object\n",
      " 1   DeviceIDHash    244126 non-null  int64 \n",
      " 2   EventTimestamp  244126 non-null  int64 \n",
      " 3   ExpId           244126 non-null  int64 \n",
      "dtypes: int64(3), object(1)\n",
      "memory usage: 9.3+ MB\n"
     ]
    },
    {
     "data": {
      "text/html": [
       "<div>\n",
       "<style scoped>\n",
       "    .dataframe tbody tr th:only-of-type {\n",
       "        vertical-align: middle;\n",
       "    }\n",
       "\n",
       "    .dataframe tbody tr th {\n",
       "        vertical-align: top;\n",
       "    }\n",
       "\n",
       "    .dataframe thead th {\n",
       "        text-align: right;\n",
       "    }\n",
       "</style>\n",
       "<table border=\"1\" class=\"dataframe\">\n",
       "  <thead>\n",
       "    <tr style=\"text-align: right;\">\n",
       "      <th></th>\n",
       "      <th>EventName</th>\n",
       "      <th>DeviceIDHash</th>\n",
       "      <th>EventTimestamp</th>\n",
       "      <th>ExpId</th>\n",
       "    </tr>\n",
       "  </thead>\n",
       "  <tbody>\n",
       "    <tr>\n",
       "      <th>0</th>\n",
       "      <td>MainScreenAppear</td>\n",
       "      <td>4575588528974610257</td>\n",
       "      <td>1564029816</td>\n",
       "      <td>246</td>\n",
       "    </tr>\n",
       "    <tr>\n",
       "      <th>1</th>\n",
       "      <td>MainScreenAppear</td>\n",
       "      <td>7416695313311560658</td>\n",
       "      <td>1564053102</td>\n",
       "      <td>246</td>\n",
       "    </tr>\n",
       "    <tr>\n",
       "      <th>2</th>\n",
       "      <td>PaymentScreenSuccessful</td>\n",
       "      <td>3518123091307005509</td>\n",
       "      <td>1564054127</td>\n",
       "      <td>248</td>\n",
       "    </tr>\n",
       "    <tr>\n",
       "      <th>3</th>\n",
       "      <td>CartScreenAppear</td>\n",
       "      <td>3518123091307005509</td>\n",
       "      <td>1564054127</td>\n",
       "      <td>248</td>\n",
       "    </tr>\n",
       "    <tr>\n",
       "      <th>4</th>\n",
       "      <td>PaymentScreenSuccessful</td>\n",
       "      <td>6217807653094995999</td>\n",
       "      <td>1564055322</td>\n",
       "      <td>248</td>\n",
       "    </tr>\n",
       "  </tbody>\n",
       "</table>\n",
       "</div>"
      ],
      "text/plain": [
       "                 EventName         DeviceIDHash  EventTimestamp  ExpId\n",
       "0         MainScreenAppear  4575588528974610257      1564029816    246\n",
       "1         MainScreenAppear  7416695313311560658      1564053102    246\n",
       "2  PaymentScreenSuccessful  3518123091307005509      1564054127    248\n",
       "3         CartScreenAppear  3518123091307005509      1564054127    248\n",
       "4  PaymentScreenSuccessful  6217807653094995999      1564055322    248"
      ]
     },
     "execution_count": 3,
     "metadata": {},
     "output_type": "execute_result"
    }
   ],
   "source": [
    "productos.drop_duplicates()\n",
    "productos = productos.dropna() \n",
    "\n",
    "print(\"\\nValores faltantes en cada columna:\")\n",
    "print(productos.isnull().sum())\n",
    "    \n",
    "print(\"\\nNúmero de duplicados:\")\n",
    "print(productos.duplicated().sum())\n",
    "\n",
    "productos.info()\n",
    "productos.head()"
   ]
  },
  {
   "cell_type": "code",
   "execution_count": 4,
   "metadata": {
    "scrolled": false
   },
   "outputs": [
    {
     "data": {
      "text/html": [
       "<div>\n",
       "<style scoped>\n",
       "    .dataframe tbody tr th:only-of-type {\n",
       "        vertical-align: middle;\n",
       "    }\n",
       "\n",
       "    .dataframe tbody tr th {\n",
       "        vertical-align: top;\n",
       "    }\n",
       "\n",
       "    .dataframe thead th {\n",
       "        text-align: right;\n",
       "    }\n",
       "</style>\n",
       "<table border=\"1\" class=\"dataframe\">\n",
       "  <thead>\n",
       "    <tr style=\"text-align: right;\">\n",
       "      <th></th>\n",
       "      <th>Evento</th>\n",
       "      <th>ID</th>\n",
       "      <th>Hora</th>\n",
       "      <th>IdExperimento</th>\n",
       "      <th>Fecha</th>\n",
       "    </tr>\n",
       "  </thead>\n",
       "  <tbody>\n",
       "    <tr>\n",
       "      <th>0</th>\n",
       "      <td>MainScreenAppear</td>\n",
       "      <td>4575588528974610257</td>\n",
       "      <td>04:43:36</td>\n",
       "      <td>246</td>\n",
       "      <td>2019-07-25</td>\n",
       "    </tr>\n",
       "    <tr>\n",
       "      <th>1</th>\n",
       "      <td>MainScreenAppear</td>\n",
       "      <td>7416695313311560658</td>\n",
       "      <td>11:11:42</td>\n",
       "      <td>246</td>\n",
       "      <td>2019-07-25</td>\n",
       "    </tr>\n",
       "    <tr>\n",
       "      <th>2</th>\n",
       "      <td>PaymentScreenSuccessful</td>\n",
       "      <td>3518123091307005509</td>\n",
       "      <td>11:28:47</td>\n",
       "      <td>248</td>\n",
       "      <td>2019-07-25</td>\n",
       "    </tr>\n",
       "    <tr>\n",
       "      <th>3</th>\n",
       "      <td>CartScreenAppear</td>\n",
       "      <td>3518123091307005509</td>\n",
       "      <td>11:28:47</td>\n",
       "      <td>248</td>\n",
       "      <td>2019-07-25</td>\n",
       "    </tr>\n",
       "    <tr>\n",
       "      <th>4</th>\n",
       "      <td>PaymentScreenSuccessful</td>\n",
       "      <td>6217807653094995999</td>\n",
       "      <td>11:48:42</td>\n",
       "      <td>248</td>\n",
       "      <td>2019-07-25</td>\n",
       "    </tr>\n",
       "  </tbody>\n",
       "</table>\n",
       "</div>"
      ],
      "text/plain": [
       "                    Evento                   ID      Hora  IdExperimento  \\\n",
       "0         MainScreenAppear  4575588528974610257  04:43:36            246   \n",
       "1         MainScreenAppear  7416695313311560658  11:11:42            246   \n",
       "2  PaymentScreenSuccessful  3518123091307005509  11:28:47            248   \n",
       "3         CartScreenAppear  3518123091307005509  11:28:47            248   \n",
       "4  PaymentScreenSuccessful  6217807653094995999  11:48:42            248   \n",
       "\n",
       "        Fecha  \n",
       "0  2019-07-25  \n",
       "1  2019-07-25  \n",
       "2  2019-07-25  \n",
       "3  2019-07-25  \n",
       "4  2019-07-25  "
      ]
     },
     "execution_count": 4,
     "metadata": {},
     "output_type": "execute_result"
    }
   ],
   "source": [
    "productos.columns = ['Evento', 'ID', 'Hora', 'IdExperimento']\n",
    "productos['Hora'] = pd.to_datetime(productos['Hora'], unit='s')\n",
    "\n",
    "productos['Fecha'] = productos['Hora'].dt.date\n",
    "productos['Hora'] = productos['Hora'].dt.time\n",
    "\n",
    "productos.head()"
   ]
  },
  {
   "cell_type": "markdown",
   "metadata": {},
   "source": [
    "<div class=\"alert alert-block alert-success\">\n",
    "<b>Comentario del revisor</b> <a class=\"tocSkip\"></a>\n",
    "    \n",
    "Buen trabajo leyendo los datos\n",
    "</div>"
   ]
  },
  {
   "cell_type": "markdown",
   "metadata": {},
   "source": [
    "# Paso 3"
   ]
  },
  {
   "cell_type": "code",
   "execution_count": 5,
   "metadata": {},
   "outputs": [
    {
     "data": {
      "text/plain": [
       "array(['MainScreenAppear', 'PaymentScreenSuccessful', 'CartScreenAppear',\n",
       "       'OffersScreenAppear', 'Tutorial'], dtype=object)"
      ]
     },
     "execution_count": 5,
     "metadata": {},
     "output_type": "execute_result"
    }
   ],
   "source": [
    "#¿Cuántos eventos hay en los registros?\n",
    "productos[\"Evento\"].unique()"
   ]
  },
  {
   "cell_type": "code",
   "execution_count": 6,
   "metadata": {},
   "outputs": [
    {
     "name": "stdout",
     "output_type": "stream",
     "text": [
      "244126\n"
     ]
    }
   ],
   "source": [
    "x_evento = productos[\"Evento\"].count()\n",
    "print(x_evento)"
   ]
  },
  {
   "cell_type": "code",
   "execution_count": 7,
   "metadata": {},
   "outputs": [
    {
     "name": "stdout",
     "output_type": "stream",
     "text": [
      "7551\n"
     ]
    }
   ],
   "source": [
    "#¿Cuántos usuarios y usuarias hay en los registros?\n",
    "x_usuario = productos[\"ID\"].nunique()\n",
    "print(x_usuario)"
   ]
  },
  {
   "cell_type": "code",
   "execution_count": 8,
   "metadata": {},
   "outputs": [
    {
     "name": "stdout",
     "output_type": "stream",
     "text": [
      "32.33028737915508\n"
     ]
    }
   ],
   "source": [
    "#¿Cuál es el promedio de eventos por usuario?\n",
    "eventoxid = x_evento / x_usuario\n",
    "print(eventoxid)"
   ]
  },
  {
   "cell_type": "code",
   "execution_count": 9,
   "metadata": {},
   "outputs": [
    {
     "name": "stdout",
     "output_type": "stream",
     "text": [
      "2019-08-07\n",
      "2019-07-25\n"
     ]
    }
   ],
   "source": [
    "#¿Qué periodo de tiempo cubren los datos? \n",
    "fecha_max = print(productos[\"Fecha\"].max())\n",
    "fecha_min = print(productos[\"Fecha\"].min())"
   ]
  },
  {
   "cell_type": "code",
   "execution_count": 10,
   "metadata": {},
   "outputs": [
    {
     "name": "stdout",
     "output_type": "stream",
     "text": [
      "2019-07-25        9\n",
      "2019-07-26       31\n",
      "2019-07-27       55\n",
      "2019-07-28      105\n",
      "2019-07-29      184\n",
      "2019-07-30      413\n",
      "2019-07-31     2031\n",
      "2019-08-01    36229\n",
      "2019-08-02    35606\n",
      "2019-08-03    33351\n",
      "2019-08-04    33033\n",
      "2019-08-05    36113\n",
      "2019-08-06    35822\n",
      "2019-08-07    31144\n",
      "Name: Fecha, dtype: int64\n"
     ]
    },
    {
     "data": {
      "image/png": "[encoded data removed]",
      "text/plain": [
       "<Figure size 1000x600 with 1 Axes>"
      ]
     },
     "metadata": {},
     "output_type": "display_data"
    }
   ],
   "source": [
    "#¿Puedes tener seguridad de que tienes datos igualmente completos para todo el periodo?\n",
    "## Para todo el periodo no tenemos completos igualmente los datos.\n",
    "eventos_por_dia = productos['Fecha'].value_counts().sort_index()\n",
    "print(eventos_por_dia)\n",
    "\n",
    "plt.figure(figsize=(10, 6))\n",
    "productos['Fecha'].hist(bins=50)\n",
    "plt.title('Histograma de eventos por fecha y hora')\n",
    "plt.xlabel('Fecha y hora')\n",
    "plt.ylabel('Número de eventos')\n",
    "plt.show()"
   ]
  },
  {
   "cell_type": "code",
   "execution_count": 11,
   "metadata": {},
   "outputs": [
    {
     "name": "stdout",
     "output_type": "stream",
     "text": [
      "2019-08-01\n",
      "2019-08-07\n",
      "\n",
      "2828\n"
     ]
    }
   ],
   "source": [
    "# ¿Qué periodo representan realmente los datos?\n",
    "### Desde 2019-08-01 al 2019-08-07\n",
    "\n",
    "# ¿Perdiste muchos eventos y usuarios al excluir los datos más antiguos?\n",
    "### Pese a que correspondel al mes 7, no fueron muchos los eventos y usuarios perdidos en comparacion con el mes 8.\n",
    "\n",
    "# Asegúrate de tener usuarios y usuarias de los tres grupos experimentales.\n",
    "fecha_completa_inicio = pd.to_datetime('2019-08-01')\n",
    "\n",
    "productos = productos[productos['Fecha'] >= fecha_completa_inicio]\n",
    "\n",
    "print(productos['Fecha'].min())\n",
    "print(productos['Fecha'].max())\n",
    "print()\n",
    "\n",
    "y_evento = productos[\"Evento\"].count()\n",
    "datos_perdidos = x_evento - y_evento\n",
    "print(datos_perdidos)"
   ]
  },
  {
   "cell_type": "markdown",
   "metadata": {},
   "source": [
    "<div class=\"alert alert-block alert-success\">\n",
    "<b>Comentario del revisor</b> <a class=\"tocSkip\"></a>\n",
    "    \n",
    "**solucionado**\n",
    "    \n",
    "Conclusiones? cuantos datos perdimos?\n",
    "</div>"
   ]
  },
  {
   "cell_type": "markdown",
   "metadata": {},
   "source": [
    "<div class=\"alert alert-block alert-info\">\n",
    "<b>Perdimos 2828 filas de informacion al ignorar informacion del mes 7 que no poseia la misma cantidad de info en comparacion al mes 8. Por lo tanto, para seguir con los siguientes pasos, usaremos la misma. Puede ser que para el periodo 7 los grupo de control no tenian tanta info por ser una empresa emergente.  </b> <a class=\"tocSkip\"></a>\n",
    "</div>"
   ]
  },
  {
   "cell_type": "markdown",
   "metadata": {},
   "source": [
    "# Paso 4"
   ]
  },
  {
   "cell_type": "code",
   "execution_count": 12,
   "metadata": {},
   "outputs": [
    {
     "name": "stdout",
     "output_type": "stream",
     "text": [
      "                    Evento  Frecuencia\n",
      "0         MainScreenAppear      117431\n",
      "1       OffersScreenAppear       46350\n",
      "2         CartScreenAppear       42365\n",
      "3  PaymentScreenSuccessful       34113\n",
      "4                 Tutorial        1039\n"
     ]
    }
   ],
   "source": [
    "#Observa qué eventos hay en los registros y su frecuencia de suceso. Ordénalos por frecuencia.\n",
    "frecuencia = productos['Evento'].value_counts().reset_index()\n",
    "frecuencia.columns = ['Evento', 'Frecuencia']\n",
    "\n",
    "frecuencia_ordenada = frecuencia.sort_values(by='Frecuencia', ascending=False)\n",
    "print(frecuencia_ordenada)"
   ]
  },
  {
   "cell_type": "code",
   "execution_count": 13,
   "metadata": {},
   "outputs": [
    {
     "name": "stdout",
     "output_type": "stream",
     "text": [
      "                    Evento  ConteoUsuario\n",
      "1         MainScreenAppear           7419\n",
      "2       OffersScreenAppear           4593\n",
      "0         CartScreenAppear           3734\n",
      "3  PaymentScreenSuccessful           3539\n",
      "4                 Tutorial            840\n"
     ]
    }
   ],
   "source": [
    "#Encuentra la cantidad de usuarios y usuarias que realizaron cada una de estas acciones. \n",
    "#Ordena los eventos por el número de usuarios y usuarias. \n",
    "usuario_x_evento = productos.groupby('Evento')['ID'].nunique().reset_index()\n",
    "usuario_x_evento.columns = ['Evento', 'ConteoUsuario']\n",
    "\n",
    "usuario_x_evento_x = usuario_x_evento.sort_values(by='ConteoUsuario', ascending=False)\n",
    "print(usuario_x_evento_x)"
   ]
  },
  {
   "cell_type": "code",
   "execution_count": 14,
   "metadata": {},
   "outputs": [
    {
     "name": "stdout",
     "output_type": "stream",
     "text": [
      "                    Evento  ConteoUsuario  ProporcionUsuario\n",
      "1         MainScreenAppear           7419           0.984736\n",
      "2       OffersScreenAppear           4593           0.609636\n",
      "0         CartScreenAppear           3734           0.495620\n",
      "3  PaymentScreenSuccessful           3539           0.469737\n",
      "4                 Tutorial            840           0.111495\n"
     ]
    }
   ],
   "source": [
    "#Calcula la proporción de usuarios y usuarias que realizaron la acción al menos una vez.\n",
    "total_usuarios = productos['ID'].nunique()\n",
    "usuario_x_evento['ProporcionUsuario'] = usuario_x_evento['ConteoUsuario'] / total_usuarios\n",
    "\n",
    "print(usuario_x_evento.sort_values(by='ProporcionUsuario', ascending=False))"
   ]
  },
  {
   "cell_type": "code",
   "execution_count": 15,
   "metadata": {},
   "outputs": [
    {
     "name": "stdout",
     "output_type": "stream",
     "text": [
      "{'MainScreenAppear -> OffersScreenAppear': 0.6190861302062273, 'OffersScreenAppear -> CartScreenAppear': 0.8129762682342695, 'CartScreenAppear -> PaymentScreenSuccessful': 0.9477771826459561}\n",
      "\n"
     ]
    },
    {
     "data": {
      "image/png": "[encoded data removed]",
      "text/plain": [
       "<Figure size 1000x600 with 1 Axes>"
      ]
     },
     "metadata": {},
     "output_type": "display_data"
    }
   ],
   "source": [
    "#Embudo\n",
    "secuencia_evento = ['MainScreenAppear', 'OffersScreenAppear', 'CartScreenAppear', 'PaymentScreenSuccessful']\n",
    "\n",
    "embudo = {}\n",
    "for i in range(len(secuencia_evento) - 1):\n",
    "    evento_1 = secuencia_evento[i]\n",
    "    proximo_evento = secuencia_evento[i + 1]\n",
    "\n",
    "    comienzo_usuario = productos[productos['Evento'] == evento_1]['ID'].nunique()\n",
    "    proximo_usuario = productos[productos['Evento'] == proximo_evento]['ID'].nunique()\n",
    "\n",
    "    embudo[f'{evento_1} -> {proximo_evento}'] = proximo_usuario / comienzo_usuario\n",
    "\n",
    "print(embudo)\n",
    "print()\n",
    "\n",
    "etapas = list(embudo.keys())\n",
    "conversiones = list(embudo.values())\n",
    "\n",
    "plt.figure(figsize=(10, 6))\n",
    "plt.bar(etapas, conversiones, color='skyblue')\n",
    "plt.xticks(rotation=45, ha='right')\n",
    "plt.title('Embudo de Conversión entre Eventos')\n",
    "plt.xlabel('Transición de Eventos')\n",
    "plt.ylabel('Tasa de Conversión')\n",
    "\n",
    "for i, v in enumerate(conversiones):\n",
    "    plt.text(i, v + 0.01, f'{v:.2%}', ha='center')\n",
    "\n",
    "plt.show()"
   ]
  },
  {
   "cell_type": "markdown",
   "metadata": {},
   "source": [
    "La mayor pérdida de usuarios ocurre en la primera etapa: MainScreenAppear -> OffersScreenAppear\n",
    "\n",
    "MainScreenAppear -> OffersScreenAppear: pérdida del 38.1%\n",
    "OffersScreenAppear -> CartScreenAppear: pérdida del 18.7%\n",
    "CartScreenAppear -> PaymentScreenSuccessful: pérdida del 5.2%"
   ]
  },
  {
   "cell_type": "code",
   "execution_count": 16,
   "metadata": {},
   "outputs": [
    {
     "name": "stdout",
     "output_type": "stream",
     "text": [
      "Porcentaje de usuarios que completan todo el proceso: 47.70%\n"
     ]
    }
   ],
   "source": [
    "#Completan todo el proceso\n",
    "evento_final = secuencia_evento[-1]\n",
    "usuario_1 = productos[productos['Evento'] == secuencia_evento[0]]['ID'].nunique()\n",
    "usuario_final = productos[productos['Evento'] == evento_final]['ID'].nunique()\n",
    "\n",
    "completa = usuario_final / usuario_1\n",
    "print(f\"Porcentaje de usuarios que completan todo el proceso: {completa * 100:.2f}%\")"
   ]
  },
  {
   "cell_type": "markdown",
   "metadata": {},
   "source": [
    "<div class=\"alert alert-block alert-success\">\n",
    "<b>Comentario del revisor</b> <a class=\"tocSkip\"></a>\n",
    "    \n",
    "**solucionado**\n",
    "Gráfico del embudo? conclusiones?\n",
    "</div>"
   ]
  },
  {
   "cell_type": "markdown",
   "metadata": {},
   "source": [
    "<div class=\"alert alert-block alert-info\">\n",
    "<b>El porcentaje de usuarios que completan todo el proceso es cercano a la mitad del total de usuarios que ingresan a la pagina, el total de los usuarios que abandonan el sitio web ocurre en la primera etapa del dataset por lo que concluiremos que hace falta realizar un mecanismo y/o idea para retener a los mismos para que pueden avanzar al siguientre paso y asi aumentar nuestro porcentaje de usuarios que completen en su totalidad todo el proceso descrito.</b> <a class=\"tocSkip\"></a>\n",
    "</div>"
   ]
  },
  {
   "cell_type": "markdown",
   "metadata": {},
   "source": [
    "# Paso 5"
   ]
  },
  {
   "cell_type": "code",
   "execution_count": 17,
   "metadata": {
    "scrolled": true
   },
   "outputs": [
    {
     "name": "stdout",
     "output_type": "stream",
     "text": [
      "   IdExperimento  ConteoUsuario\n",
      "0            246           2484\n",
      "1            247           2513\n",
      "2            248           2537\n"
     ]
    }
   ],
   "source": [
    "#¿Cuántos usuarios y usuarias hay en cada grupo?\n",
    "usuario_x_grupo = productos.groupby('IdExperimento')['ID'].nunique().reset_index()\n",
    "usuario_x_grupo.columns = ['IdExperimento', 'ConteoUsuario']\n",
    "print(usuario_x_grupo)"
   ]
  },
  {
   "cell_type": "code",
   "execution_count": 18,
   "metadata": {
    "scrolled": true
   },
   "outputs": [
    {
     "name": "stdout",
     "output_type": "stream",
     "text": [
      "El evento más popular es: MainScreenAppear\n"
     ]
    }
   ],
   "source": [
    "evento_popular = productos['Evento'].value_counts().idxmax()\n",
    "print(f\"El evento más popular es: {evento_popular}\")"
   ]
  },
  {
   "cell_type": "markdown",
   "metadata": {},
   "source": [
    "<div class=\"alert alert-block alert-info\">\n",
    "<b>Comparar si hay una diferencia significativa en la proporción de usuarios que experimentaron este evento entre los grupos de control 246 y 247.</b> <a class=\"tocSkip\"></a>\n",
    "</div>"
   ]
  },
  {
   "cell_type": "code",
   "execution_count": 19,
   "metadata": {
    "scrolled": true
   },
   "outputs": [
    {
     "name": "stdout",
     "output_type": "stream",
     "text": [
      "Estadístico Z: 0.3093\n",
      "P-valor: 0.7571\n",
      "No hay una diferencia estadísticamente significativa entre los dos grupos.\n"
     ]
    }
   ],
   "source": [
    "grupo_246 = productos[(productos['IdExperimento'] == 246) & (productos['Evento'] == evento_popular)]\n",
    "grupo_247 = productos[(productos['IdExperimento'] == 247) & (productos['Evento'] == evento_popular)]\n",
    "\n",
    "exitos_246 = grupo_246['ID'].nunique()\n",
    "exitos_247 = grupo_247['ID'].nunique()\n",
    "\n",
    "usuarios_246 = productos[productos['IdExperimento'] == 246]['ID'].nunique()\n",
    "usuarios_247 = productos[productos['IdExperimento'] == 247]['ID'].nunique()\n",
    "\n",
    "exitos = [exitos_246, exitos_247]\n",
    "n = [usuarios_246, usuarios_247]\n",
    "\n",
    "stat, p_value = proportions_ztest(exitos, n)\n",
    "\n",
    "print(f'Estadístico Z: {stat:.4f}')\n",
    "print(f'P-valor: {p_value:.4f}')\n",
    "\n",
    "if p_value < 0.005:\n",
    "    print(\"Hay una diferencia estadísticamente significativa entre los dos grupos.\")\n",
    "else:\n",
    "    print(\"No hay una diferencia estadísticamente significativa entre los dos grupos.\")"
   ]
  },
  {
   "cell_type": "markdown",
   "metadata": {},
   "source": [
    "<div class=\"alert alert-block alert-info\">\n",
    "<b>En cada uno de los grupos de control, encuentra la cantidad de usuarios y usuarias que realizaron esta acción.</b> <a class=\"tocSkip\"></a>\n",
    "</div>"
   ]
  },
  {
   "cell_type": "code",
   "execution_count": 20,
   "metadata": {
    "scrolled": false
   },
   "outputs": [
    {
     "name": "stdout",
     "output_type": "stream",
     "text": [
      "Cantidad de usuarios/as en el grupo 246 que realizaron 'MainScreenAppear': 2450\n",
      "Cantidad de usuarios/as en el grupo 247 que realizaron 'MainScreenAppear': 2476\n"
     ]
    }
   ],
   "source": [
    "grupo_246 = productos[(productos['IdExperimento'] == 246) & (productos['Evento'] == \"MainScreenAppear\")]\n",
    "grupo_247 = productos[(productos['IdExperimento'] == 247) & (productos['Evento'] == \"MainScreenAppear\")]\n",
    "\n",
    "usuarios_246 = grupo_246['ID'].nunique()\n",
    "usuarios_247 = grupo_247['ID'].nunique()\n",
    "\n",
    "print(f\"Cantidad de usuarios/as en el grupo 246 que realizaron 'MainScreenAppear': {usuarios_246}\")\n",
    "print(f\"Cantidad de usuarios/as en el grupo 247 que realizaron 'MainScreenAppear': {usuarios_247}\")"
   ]
  },
  {
   "cell_type": "markdown",
   "metadata": {},
   "source": [
    "<div class=\"alert alert-block alert-info\">\n",
    "<b>Encontrar su proporcion.</b> <a class=\"tocSkip\"></a>\n",
    "</div>"
   ]
  },
  {
   "cell_type": "code",
   "execution_count": 21,
   "metadata": {
    "scrolled": true
   },
   "outputs": [
    {
     "name": "stdout",
     "output_type": "stream",
     "text": [
      "Proporción de usuarios/as en el grupo 246 que realizaron 'MainScreenAppear': 0.9863\n",
      "Proporción de usuarios/as en el grupo 247 que realizaron 'MainScreenAppear': 0.9853\n"
     ]
    }
   ],
   "source": [
    "total_usuarios_246 = productos[productos['IdExperimento'] == 246]['ID'].nunique()\n",
    "total_usuarios_247 = productos[productos['IdExperimento'] == 247]['ID'].nunique()\n",
    "\n",
    "proporcion_246 = usuarios_246 / total_usuarios_246\n",
    "proporcion_247 = usuarios_247 / total_usuarios_247\n",
    "\n",
    "print(f\"Proporción de usuarios/as en el grupo 246 que realizaron 'MainScreenAppear': {proporcion_246:.4f}\")\n",
    "print(f\"Proporción de usuarios/as en el grupo 247 que realizaron 'MainScreenAppear': {proporcion_247:.4f}\")"
   ]
  },
  {
   "cell_type": "markdown",
   "metadata": {},
   "source": [
    "<div class=\"alert alert-block alert-info\">\n",
    "<b>Comprueba si la diferencia entre los grupos es estadísticamente significativa</b> <a class=\"tocSkip\"></a>\n",
    "</div>"
   ]
  },
  {
   "cell_type": "code",
   "execution_count": 22,
   "metadata": {
    "scrolled": true
   },
   "outputs": [
    {
     "name": "stdout",
     "output_type": "stream",
     "text": [
      "Estadístico Z: 0.3093\n",
      "P-valor: 0.7571\n",
      "No hay una diferencia estadísticamente significativa entre los dos grupos.\n"
     ]
    }
   ],
   "source": [
    "exitos = [usuarios_246, usuarios_247]\n",
    "n = [total_usuarios_246, total_usuarios_247]\n",
    "stat, p_value = proportions_ztest(exitos, n)\n",
    "\n",
    "print(f'Estadístico Z: {stat:.4f}')\n",
    "print(f'P-valor: {p_value:.4f}')\n",
    "\n",
    "if p_value < 0.005:\n",
    "    print(\"Hay una diferencia estadísticamente significativa entre los dos grupos.\")\n",
    "else:\n",
    "    print(\"No hay una diferencia estadísticamente significativa entre los dos grupos.\")"
   ]
  },
  {
   "cell_type": "markdown",
   "metadata": {},
   "source": [
    "# Para los otros eventos"
   ]
  },
  {
   "cell_type": "code",
   "execution_count": 23,
   "metadata": {},
   "outputs": [],
   "source": [
    "#OffersScreenAppear"
   ]
  },
  {
   "cell_type": "code",
   "execution_count": 24,
   "metadata": {},
   "outputs": [
    {
     "name": "stdout",
     "output_type": "stream",
     "text": [
      "Estadístico Z: 1.1550\n",
      "P-valor: 0.2481\n",
      "No hay una diferencia estadísticamente significativa entre los dos grupos.\n"
     ]
    }
   ],
   "source": [
    "grupo_246 = productos[(productos['IdExperimento'] == 246) & (productos['Evento'] == \"OffersScreenAppear\")]\n",
    "grupo_247 = productos[(productos['IdExperimento'] == 247) & (productos['Evento'] == \"OffersScreenAppear\")]\n",
    "\n",
    "exitos_246 = grupo_246['ID'].nunique()\n",
    "exitos_247 = grupo_247['ID'].nunique()\n",
    "\n",
    "usuarios_246 = productos[productos['IdExperimento'] == 246]['ID'].nunique()\n",
    "usuarios_247 = productos[productos['IdExperimento'] == 247]['ID'].nunique()\n",
    "\n",
    "exitos = [exitos_246, exitos_247]\n",
    "n = [usuarios_246, usuarios_247]\n",
    "\n",
    "stat, p_value = proportions_ztest(exitos, n)\n",
    "\n",
    "print(f'Estadístico Z: {stat:.4f}')\n",
    "print(f'P-valor: {p_value:.4f}')\n",
    "\n",
    "if p_value < 0.005:\n",
    "    print(\"Hay una diferencia estadísticamente significativa entre los dos grupos.\")\n",
    "else:\n",
    "    print(\"No hay una diferencia estadísticamente significativa entre los dos grupos.\")"
   ]
  },
  {
   "cell_type": "code",
   "execution_count": 25,
   "metadata": {},
   "outputs": [],
   "source": [
    "#CartScreenAppear"
   ]
  },
  {
   "cell_type": "code",
   "execution_count": 26,
   "metadata": {
    "scrolled": true
   },
   "outputs": [
    {
     "name": "stdout",
     "output_type": "stream",
     "text": [
      "Estadístico Z: 1.2034\n",
      "P-valor: 0.2288\n",
      "No hay una diferencia estadísticamente significativa entre los dos grupos.\n"
     ]
    }
   ],
   "source": [
    "grupo_246 = productos[(productos['IdExperimento'] == 246) & (productos['Evento'] == \"CartScreenAppear\")]\n",
    "grupo_247 = productos[(productos['IdExperimento'] == 247) & (productos['Evento'] == \"CartScreenAppear\")]\n",
    "\n",
    "exitos_246 = grupo_246['ID'].nunique()\n",
    "exitos_247 = grupo_247['ID'].nunique()\n",
    "\n",
    "usuarios_246 = productos[productos['IdExperimento'] == 246]['ID'].nunique()\n",
    "usuarios_247 = productos[productos['IdExperimento'] == 247]['ID'].nunique()\n",
    "\n",
    "exitos = [exitos_246, exitos_247]\n",
    "n = [usuarios_246, usuarios_247]\n",
    "\n",
    "stat, p_value = proportions_ztest(exitos, n)\n",
    "\n",
    "print(f'Estadístico Z: {stat:.4f}')\n",
    "print(f'P-valor: {p_value:.4f}')\n",
    "\n",
    "if p_value < 0.005:\n",
    "    print(\"Hay una diferencia estadísticamente significativa entre los dos grupos.\")\n",
    "else:\n",
    "    print(\"No hay una diferencia estadísticamente significativa entre los dos grupos.\")"
   ]
  },
  {
   "cell_type": "code",
   "execution_count": 27,
   "metadata": {},
   "outputs": [],
   "source": [
    "#PaymentScreenSuccessful"
   ]
  },
  {
   "cell_type": "code",
   "execution_count": 28,
   "metadata": {},
   "outputs": [
    {
     "name": "stdout",
     "output_type": "stream",
     "text": [
      "Estadístico Z: 1.5780\n",
      "P-valor: 0.1146\n",
      "No hay una diferencia estadísticamente significativa entre los dos grupos.\n"
     ]
    }
   ],
   "source": [
    "grupo_246 = productos[(productos['IdExperimento'] == 246) & (productos['Evento'] == \"PaymentScreenSuccessful\")]\n",
    "grupo_247 = productos[(productos['IdExperimento'] == 247) & (productos['Evento'] == \"PaymentScreenSuccessful\")]\n",
    "\n",
    "exitos_246 = grupo_246['ID'].nunique()\n",
    "exitos_247 = grupo_247['ID'].nunique()\n",
    "\n",
    "usuarios_246 = productos[productos['IdExperimento'] == 246]['ID'].nunique()\n",
    "usuarios_247 = productos[productos['IdExperimento'] == 247]['ID'].nunique()\n",
    "\n",
    "exitos = [exitos_246, exitos_247]\n",
    "n = [usuarios_246, usuarios_247]\n",
    "\n",
    "stat, p_value = proportions_ztest(exitos, n)\n",
    "\n",
    "print(f'Estadístico Z: {stat:.4f}')\n",
    "print(f'P-valor: {p_value:.4f}')\n",
    "\n",
    "if p_value < 0.005:\n",
    "    print(\"Hay una diferencia estadísticamente significativa entre los dos grupos.\")\n",
    "else:\n",
    "    print(\"No hay una diferencia estadísticamente significativa entre los dos grupos.\")"
   ]
  },
  {
   "cell_type": "code",
   "execution_count": 29,
   "metadata": {},
   "outputs": [],
   "source": [
    "#Tutorial"
   ]
  },
  {
   "cell_type": "code",
   "execution_count": 30,
   "metadata": {
    "scrolled": true
   },
   "outputs": [
    {
     "name": "stdout",
     "output_type": "stream",
     "text": [
      "Estadístico Z: -0.0782\n",
      "P-valor: 0.9377\n",
      "No hay una diferencia estadísticamente significativa entre los dos grupos.\n"
     ]
    }
   ],
   "source": [
    "grupo_246 = productos[(productos['IdExperimento'] == 246) & (productos['Evento'] == \"Tutorial\")]\n",
    "grupo_247 = productos[(productos['IdExperimento'] == 247) & (productos['Evento'] == \"Tutorial\")]\n",
    "\n",
    "exitos_246 = grupo_246['ID'].nunique()\n",
    "exitos_247 = grupo_247['ID'].nunique()\n",
    "\n",
    "usuarios_246 = productos[productos['IdExperimento'] == 246]['ID'].nunique()\n",
    "usuarios_247 = productos[productos['IdExperimento'] == 247]['ID'].nunique()\n",
    "\n",
    "exitos = [exitos_246, exitos_247]\n",
    "n = [usuarios_246, usuarios_247]\n",
    "\n",
    "stat, p_value = proportions_ztest(exitos, n)\n",
    "\n",
    "print(f'Estadístico Z: {stat:.4f}')\n",
    "print(f'P-valor: {p_value:.4f}')\n",
    "\n",
    "if p_value < 0.005:\n",
    "    print(\"Hay una diferencia estadísticamente significativa entre los dos grupos.\")\n",
    "else:\n",
    "    print(\"No hay una diferencia estadísticamente significativa entre los dos grupos.\")"
   ]
  },
  {
   "cell_type": "markdown",
   "metadata": {},
   "source": [
    "<div class=\"alert alert-block alert-info\">\n",
    "<b>Los grupos se dividieron correctamente</b> <a class=\"tocSkip\"></a>\n",
    "</div>"
   ]
  },
  {
   "cell_type": "markdown",
   "metadata": {},
   "source": [
    "# Lo mismo pero con el grupo 248"
   ]
  },
  {
   "cell_type": "code",
   "execution_count": 31,
   "metadata": {},
   "outputs": [],
   "source": [
    "#MainScreenAppear"
   ]
  },
  {
   "cell_type": "code",
   "execution_count": 32,
   "metadata": {
    "scrolled": true
   },
   "outputs": [
    {
     "name": "stdout",
     "output_type": "stream",
     "text": [
      "Estadístico Z: -62.0312\n",
      "P-valor: 0.0000\n",
      "Hay una diferencia estadísticamente significativa entre los dos grupos.\n"
     ]
    }
   ],
   "source": [
    "grupo_248 = productos[(productos['IdExperimento'] == 248) & (productos['Evento'] == \"MainScreenAppear\")]\n",
    "\n",
    "exitos_248 = grupo_248['ID'].nunique()\n",
    "\n",
    "usuarios_248 = productos[productos['IdExperimento'] == 248]['ID'].nunique()\n",
    "\n",
    "exitos = [exitos_246, exitos_248]\n",
    "n = [usuarios_246, usuarios_248]\n",
    "\n",
    "stat, p_value = proportions_ztest(exitos, n)\n",
    "\n",
    "print(f'Estadístico Z: {stat:.4f}')\n",
    "print(f'P-valor: {p_value:.4f}')\n",
    "\n",
    "if p_value < 0.005:\n",
    "    print(\"Hay una diferencia estadísticamente significativa entre los dos grupos.\")\n",
    "else:\n",
    "    print(\"No hay una diferencia estadísticamente significativa entre los dos grupos.\")"
   ]
  },
  {
   "cell_type": "code",
   "execution_count": 33,
   "metadata": {},
   "outputs": [],
   "source": [
    "#OffersScreenAppear"
   ]
  },
  {
   "cell_type": "code",
   "execution_count": 34,
   "metadata": {
    "scrolled": true
   },
   "outputs": [
    {
     "name": "stdout",
     "output_type": "stream",
     "text": [
      "Estadístico Z: -36.2739\n",
      "P-valor: 0.0000\n",
      "Hay una diferencia estadísticamente significativa entre los dos grupos.\n"
     ]
    }
   ],
   "source": [
    "grupo_248 = productos[(productos['IdExperimento'] == 248) & (productos['Evento'] == \"OffersScreenAppear\")]\n",
    "\n",
    "exitos_248 = grupo_248['ID'].nunique()\n",
    "\n",
    "usuarios_248 = productos[productos['IdExperimento'] == 248]['ID'].nunique()\n",
    "\n",
    "exitos = [exitos_246, exitos_248]\n",
    "n = [usuarios_246, usuarios_248]\n",
    "\n",
    "stat, p_value = proportions_ztest(exitos, n)\n",
    "\n",
    "print(f'Estadístico Z: {stat:.4f}')\n",
    "print(f'P-valor: {p_value:.4f}')\n",
    "\n",
    "if p_value < 0.005:\n",
    "    print(\"Hay una diferencia estadísticamente significativa entre los dos grupos.\")\n",
    "else:\n",
    "    print(\"No hay una diferencia estadísticamente significativa entre los dos grupos.\")"
   ]
  },
  {
   "cell_type": "code",
   "execution_count": 35,
   "metadata": {},
   "outputs": [],
   "source": [
    "#CartScreenAppear"
   ]
  },
  {
   "cell_type": "code",
   "execution_count": 36,
   "metadata": {
    "scrolled": true
   },
   "outputs": [
    {
     "name": "stdout",
     "output_type": "stream",
     "text": [
      "Estadístico Z: -28.8200\n",
      "P-valor: 0.0000\n",
      "Hay una diferencia estadísticamente significativa entre los dos grupos.\n"
     ]
    }
   ],
   "source": [
    "grupo_248 = productos[(productos['IdExperimento'] == 248) & (productos['Evento'] == \"CartScreenAppear\")]\n",
    "\n",
    "exitos_248 = grupo_248['ID'].nunique()\n",
    "\n",
    "usuarios_248 = productos[productos['IdExperimento'] == 248]['ID'].nunique()\n",
    "\n",
    "exitos = [exitos_246, exitos_248]\n",
    "n = [usuarios_246, usuarios_248]\n",
    "\n",
    "stat, p_value = proportions_ztest(exitos, n)\n",
    "\n",
    "print(f'Estadístico Z: {stat:.4f}')\n",
    "print(f'P-valor: {p_value:.4f}')\n",
    "\n",
    "if p_value < 0.005:\n",
    "    print(\"Hay una diferencia estadísticamente significativa entre los dos grupos.\")\n",
    "else:\n",
    "    print(\"No hay una diferencia estadísticamente significativa entre los dos grupos.\")"
   ]
  },
  {
   "cell_type": "code",
   "execution_count": 37,
   "metadata": {},
   "outputs": [],
   "source": [
    "#PaymentScreenSuccessful"
   ]
  },
  {
   "cell_type": "code",
   "execution_count": 38,
   "metadata": {
    "scrolled": true
   },
   "outputs": [
    {
     "name": "stdout",
     "output_type": "stream",
     "text": [
      "Estadístico Z: -27.5906\n",
      "P-valor: 0.0000\n",
      "Hay una diferencia estadísticamente significativa entre los dos grupos.\n"
     ]
    }
   ],
   "source": [
    "grupo_248 = productos[(productos['IdExperimento'] == 248) & (productos['Evento'] == \"PaymentScreenSuccessful\")]\n",
    "\n",
    "exitos_248 = grupo_248['ID'].nunique()\n",
    "\n",
    "usuarios_248 = productos[productos['IdExperimento'] == 248]['ID'].nunique()\n",
    "\n",
    "exitos = [exitos_246, exitos_248]\n",
    "n = [usuarios_246, usuarios_248]\n",
    "\n",
    "stat, p_value = proportions_ztest(exitos, n)\n",
    "\n",
    "print(f'Estadístico Z: {stat:.4f}')\n",
    "print(f'P-valor: {p_value:.4f}')\n",
    "\n",
    "if p_value < 0.005:\n",
    "    print(\"Hay una diferencia estadísticamente significativa entre los dos grupos.\")\n",
    "else:\n",
    "    print(\"No hay una diferencia estadísticamente significativa entre los dos grupos.\")"
   ]
  },
  {
   "cell_type": "code",
   "execution_count": 39,
   "metadata": {},
   "outputs": [],
   "source": [
    "#Tutorial"
   ]
  },
  {
   "cell_type": "code",
   "execution_count": 40,
   "metadata": {
    "scrolled": false
   },
   "outputs": [
    {
     "name": "stdout",
     "output_type": "stream",
     "text": [
      "Estadístico Z: 0.2193\n",
      "P-valor: 0.8264\n",
      "No hay una diferencia estadísticamente significativa entre los dos grupos.\n"
     ]
    }
   ],
   "source": [
    "grupo_248 = productos[(productos['IdExperimento'] == 248) & (productos['Evento'] == \"Tutorial\")]\n",
    "\n",
    "exitos_248 = grupo_248['ID'].nunique()\n",
    "\n",
    "usuarios_248 = productos[productos['IdExperimento'] == 248]['ID'].nunique()\n",
    "\n",
    "exitos = [exitos_246, exitos_248]\n",
    "n = [usuarios_246, usuarios_248]\n",
    "\n",
    "stat, p_value = proportions_ztest(exitos, n)\n",
    "\n",
    "print(f'Estadístico Z: {stat:.4f}')\n",
    "print(f'P-valor: {p_value:.4f}')\n",
    "\n",
    "if p_value < 0.005:\n",
    "    print(\"Hay una diferencia estadísticamente significativa entre los dos grupos.\")\n",
    "else:\n",
    "    print(\"No hay una diferencia estadísticamente significativa entre los dos grupos.\")"
   ]
  },
  {
   "cell_type": "markdown",
   "metadata": {},
   "source": [
    "<div class=\"alert alert-block alert-info\">\n",
    "<b>Como tenemos 10 test de hipotesis, contabilizando los test tanto de los grupos de control como del grupo de prueba, y para reducir los falsos positivos usaremos nivel de significancia del 0.005 (0.05/10=0.005) entonces para cada test individual se evaluará con un nivel de significancia de 0.005 en lugar de 0.05. Con esto estariamos cumpliendo con la correccion Bonferroni. Comparando los resultados de las hipotesis en los grupos de control y de prueba podemos llegar a la conclusion que se expresa mas abajo.</b> <a class=\"tocSkip\"></a>\n",
    "</div>"
   ]
  },
  {
   "cell_type": "markdown",
   "metadata": {},
   "source": [
    "<div class=\"alert alert-block alert-success\">\n",
    "<b>Comentario del revisor</b> <a class=\"tocSkip\"></a>\n",
    "    \n",
    "**solucionado**\n",
    "    \n",
    "    \n",
    "Cuando realizas multiples test de hipotesis mantiendo fijo el grupo control, el nivel de significancia del total de los test es distinto que el de nivel individual, es por eso que se utilizan técnicas de corrección como bonferroni, si no recuerdas este contenido, contacta a tu tutor.\n",
    "</div>"
   ]
  },
  {
   "cell_type": "markdown",
   "metadata": {},
   "source": [
    "<div class=\"alert alert-block alert-info\">\n",
    "<b>Debido a todas las pruebas estadisticas realizadas anteriormente podemos concluir que no hay diferencias estadisticas significativas entre los grupos de control A/A pero si en el grupo de prueba B (248), con esto respondemos a la pregunta planteada en primera instancia del proyecto, al cambiar las fuentes de la aplicacion... generamos cambios en el comportamiento de los usuarios en las etapas mas importantes descritas anteriormente en los codigos.   </b> <a class=\"tocSkip\"></a>\n",
    "</div>"
   ]
  },
  {
   "cell_type": "code",
   "execution_count": null,
   "metadata": {},
   "outputs": [],
   "source": []
  }
 ],
 "metadata": {
  "ExecuteTimeLog": [
   {
    "duration": 446,
    "start_time": "2024-08-26T14:51:57.139Z"
   },
   {
    "duration": 368,
    "start_time": "2024-08-26T14:52:43.067Z"
   },
   {
    "duration": 497,
    "start_time": "2024-08-26T14:53:47.155Z"
   },
   {
    "duration": 382,
    "start_time": "2024-08-26T14:53:52.202Z"
   },
   {
    "duration": 354,
    "start_time": "2024-08-26T14:54:19.229Z"
   },
   {
    "duration": 443,
    "start_time": "2024-08-26T14:54:20.879Z"
   },
   {
    "duration": 7,
    "start_time": "2024-08-26T14:54:31.030Z"
   },
   {
    "duration": 301,
    "start_time": "2024-08-26T14:55:25.451Z"
   },
   {
    "duration": 361,
    "start_time": "2024-08-26T14:55:27.757Z"
   },
   {
    "duration": 312,
    "start_time": "2024-08-26T14:55:33.175Z"
   },
   {
    "duration": 359,
    "start_time": "2024-08-26T14:55:34.809Z"
   },
   {
    "duration": 169,
    "start_time": "2024-08-26T14:58:45.289Z"
   },
   {
    "duration": 189,
    "start_time": "2024-08-26T14:58:46.895Z"
   },
   {
    "duration": 4,
    "start_time": "2024-08-26T15:10:46.961Z"
   },
   {
    "duration": 11,
    "start_time": "2024-08-26T15:10:58.673Z"
   },
   {
    "duration": 29,
    "start_time": "2024-08-26T15:14:22.397Z"
   },
   {
    "duration": 246,
    "start_time": "2024-08-26T15:14:28.245Z"
   },
   {
    "duration": 8,
    "start_time": "2024-08-26T15:16:51.284Z"
   },
   {
    "duration": 17,
    "start_time": "2024-08-26T15:16:57.012Z"
   },
   {
    "duration": 26,
    "start_time": "2024-08-26T15:17:00.532Z"
   },
   {
    "duration": 24,
    "start_time": "2024-08-26T15:17:46.764Z"
   },
   {
    "duration": 6,
    "start_time": "2024-08-26T15:17:52.724Z"
   },
   {
    "duration": 39,
    "start_time": "2024-08-26T15:29:29.246Z"
   },
   {
    "duration": 28,
    "start_time": "2024-08-26T15:29:41.387Z"
   },
   {
    "duration": 37,
    "start_time": "2024-08-26T15:29:52.961Z"
   },
   {
    "duration": 36,
    "start_time": "2024-08-26T15:29:59.566Z"
   },
   {
    "duration": 27,
    "start_time": "2024-08-26T15:30:04.602Z"
   },
   {
    "duration": 5,
    "start_time": "2024-08-26T15:30:48.812Z"
   },
   {
    "duration": 6,
    "start_time": "2024-08-26T15:30:52.763Z"
   },
   {
    "duration": 13,
    "start_time": "2024-08-26T15:30:57.099Z"
   },
   {
    "duration": 33,
    "start_time": "2024-08-26T15:42:24.580Z"
   },
   {
    "duration": 222,
    "start_time": "2024-08-26T15:42:37.844Z"
   },
   {
    "duration": 31,
    "start_time": "2024-08-26T15:42:55.398Z"
   },
   {
    "duration": 30,
    "start_time": "2024-08-26T15:43:03.954Z"
   },
   {
    "duration": 30,
    "start_time": "2024-08-26T15:43:28.763Z"
   },
   {
    "duration": 16,
    "start_time": "2024-08-26T15:44:07.443Z"
   },
   {
    "duration": 6,
    "start_time": "2024-08-26T15:44:28.693Z"
   },
   {
    "duration": 16,
    "start_time": "2024-08-26T15:44:38.211Z"
   },
   {
    "duration": 9,
    "start_time": "2024-08-26T15:45:03.655Z"
   },
   {
    "duration": 8,
    "start_time": "2024-08-26T15:45:12.211Z"
   },
   {
    "duration": 14,
    "start_time": "2024-08-26T15:45:28.852Z"
   },
   {
    "duration": 4,
    "start_time": "2024-08-26T15:45:56.286Z"
   },
   {
    "duration": 36,
    "start_time": "2024-08-26T16:08:53.524Z"
   },
   {
    "duration": 36,
    "start_time": "2024-08-26T16:09:11.463Z"
   },
   {
    "duration": 35,
    "start_time": "2024-08-26T16:09:31.777Z"
   },
   {
    "duration": 3860,
    "start_time": "2024-08-26T16:10:06.705Z"
   },
   {
    "duration": 4,
    "start_time": "2024-08-26T16:10:46.147Z"
   },
   {
    "duration": 41,
    "start_time": "2024-08-26T16:11:50.978Z"
   },
   {
    "duration": 790,
    "start_time": "2024-08-26T16:12:05.163Z"
   },
   {
    "duration": 590,
    "start_time": "2024-08-26T16:13:17.172Z"
   },
   {
    "duration": 334,
    "start_time": "2024-08-26T16:14:07.622Z"
   },
   {
    "duration": 29,
    "start_time": "2024-08-26T16:22:01.946Z"
   },
   {
    "duration": 798,
    "start_time": "2024-08-26T16:22:15.934Z"
   },
   {
    "duration": 423,
    "start_time": "2024-08-26T16:37:46.897Z"
   },
   {
    "duration": 73,
    "start_time": "2024-08-26T16:38:51.033Z"
   },
   {
    "duration": 75,
    "start_time": "2024-08-26T16:39:06.031Z"
   },
   {
    "duration": 87,
    "start_time": "2024-08-26T16:40:01.406Z"
   },
   {
    "duration": 71,
    "start_time": "2024-08-26T16:40:06.941Z"
   },
   {
    "duration": 80,
    "start_time": "2024-08-26T16:40:23.744Z"
   },
   {
    "duration": 71,
    "start_time": "2024-08-26T16:40:37.144Z"
   },
   {
    "duration": 366,
    "start_time": "2024-08-27T02:54:30.739Z"
   },
   {
    "duration": 4394,
    "start_time": "2024-08-27T02:54:36.611Z"
   },
   {
    "duration": 212,
    "start_time": "2024-08-27T02:54:41.009Z"
   },
   {
    "duration": 216,
    "start_time": "2024-08-27T02:54:41.224Z"
   },
   {
    "duration": 245,
    "start_time": "2024-08-27T02:54:41.444Z"
   },
   {
    "duration": 45,
    "start_time": "2024-08-27T02:54:41.693Z"
   },
   {
    "duration": 18,
    "start_time": "2024-08-27T02:54:41.741Z"
   },
   {
    "duration": 12,
    "start_time": "2024-08-27T02:54:41.762Z"
   },
   {
    "duration": 5,
    "start_time": "2024-08-27T02:54:41.778Z"
   },
   {
    "duration": 76,
    "start_time": "2024-08-27T02:54:41.786Z"
   },
   {
    "duration": 881,
    "start_time": "2024-08-27T02:54:41.866Z"
   },
   {
    "duration": 107,
    "start_time": "2024-08-27T02:54:42.751Z"
   },
   {
    "duration": 12,
    "start_time": "2024-08-27T02:54:42.861Z"
   },
   {
    "duration": 1186,
    "start_time": "2024-08-27T02:54:42.877Z"
   },
   {
    "duration": 31,
    "start_time": "2024-08-27T02:55:13.788Z"
   },
   {
    "duration": 67,
    "start_time": "2024-08-27T02:57:51.990Z"
   },
   {
    "duration": 28,
    "start_time": "2024-08-27T03:04:51.147Z"
   },
   {
    "duration": 14,
    "start_time": "2024-08-27T03:05:05.516Z"
   },
   {
    "duration": 69,
    "start_time": "2024-08-27T03:06:16.807Z"
   },
   {
    "duration": 13,
    "start_time": "2024-08-27T03:06:25.078Z"
   },
   {
    "duration": 197,
    "start_time": "2024-08-27T03:14:44.208Z"
   },
   {
    "duration": 30,
    "start_time": "2024-08-27T03:15:48.652Z"
   },
   {
    "duration": 173,
    "start_time": "2024-08-27T03:15:54.572Z"
   },
   {
    "duration": 3,
    "start_time": "2024-08-27T03:17:56.276Z"
   },
   {
    "duration": 7,
    "start_time": "2024-08-27T03:18:17.429Z"
   },
   {
    "duration": 4,
    "start_time": "2024-08-27T03:19:20.331Z"
   },
   {
    "duration": 58,
    "start_time": "2024-08-27T03:22:35.552Z"
   },
   {
    "duration": 77,
    "start_time": "2024-08-27T03:22:58.804Z"
   },
   {
    "duration": 184,
    "start_time": "2024-08-27T16:55:54.202Z"
   },
   {
    "duration": 2187,
    "start_time": "2024-08-27T16:56:06.459Z"
   },
   {
    "duration": 147,
    "start_time": "2024-08-27T16:56:08.648Z"
   },
   {
    "duration": 131,
    "start_time": "2024-08-27T16:56:08.796Z"
   },
   {
    "duration": 120,
    "start_time": "2024-08-27T16:56:08.929Z"
   },
   {
    "duration": 15,
    "start_time": "2024-08-27T16:56:09.050Z"
   },
   {
    "duration": 9,
    "start_time": "2024-08-27T16:56:09.067Z"
   },
   {
    "duration": 7,
    "start_time": "2024-08-27T16:56:09.078Z"
   },
   {
    "duration": 2,
    "start_time": "2024-08-27T16:56:09.087Z"
   },
   {
    "duration": 22,
    "start_time": "2024-08-27T16:56:09.109Z"
   },
   {
    "duration": 403,
    "start_time": "2024-08-27T16:56:09.134Z"
   },
   {
    "duration": 51,
    "start_time": "2024-08-27T16:56:09.539Z"
   },
   {
    "duration": 18,
    "start_time": "2024-08-27T16:56:09.592Z"
   },
   {
    "duration": 22,
    "start_time": "2024-08-27T16:56:09.611Z"
   },
   {
    "duration": 36,
    "start_time": "2024-08-27T16:56:09.634Z"
   },
   {
    "duration": 7,
    "start_time": "2024-08-27T16:56:09.672Z"
   },
   {
    "duration": 128,
    "start_time": "2024-08-27T16:56:09.681Z"
   },
   {
    "duration": 34,
    "start_time": "2024-08-27T16:56:09.811Z"
   },
   {
    "duration": 22,
    "start_time": "2024-08-27T16:56:09.846Z"
   },
   {
    "duration": 7,
    "start_time": "2024-08-27T16:56:47.533Z"
   },
   {
    "duration": 27,
    "start_time": "2024-08-27T16:56:56.930Z"
   },
   {
    "duration": 8,
    "start_time": "2024-08-27T16:57:08.185Z"
   },
   {
    "duration": 534,
    "start_time": "2024-08-27T17:12:18.326Z"
   },
   {
    "duration": 13,
    "start_time": "2024-08-27T17:12:28.157Z"
   },
   {
    "duration": 3,
    "start_time": "2024-08-27T17:13:33.197Z"
   },
   {
    "duration": 3,
    "start_time": "2024-08-27T17:17:51.730Z"
   },
   {
    "duration": 2847,
    "start_time": "2024-08-27T17:18:39.191Z"
   },
   {
    "duration": 2513,
    "start_time": "2024-08-27T17:23:37.370Z"
   },
   {
    "duration": 19,
    "start_time": "2024-08-27T17:25:39.188Z"
   },
   {
    "duration": 16,
    "start_time": "2024-08-27T17:25:53.907Z"
   },
   {
    "duration": 427,
    "start_time": "2024-08-27T17:26:54.410Z"
   },
   {
    "duration": 40,
    "start_time": "2024-08-27T17:28:22.680Z"
   },
   {
    "duration": 31,
    "start_time": "2024-08-27T17:28:55.430Z"
   },
   {
    "duration": 14,
    "start_time": "2024-08-27T17:29:40.726Z"
   },
   {
    "duration": 45,
    "start_time": "2024-08-27T17:29:49.287Z"
   },
   {
    "duration": 5,
    "start_time": "2024-08-27T17:30:06.862Z"
   },
   {
    "duration": 49,
    "start_time": "2024-08-27T17:32:20.460Z"
   },
   {
    "duration": 130,
    "start_time": "2024-08-27T17:32:38.568Z"
   },
   {
    "duration": 45,
    "start_time": "2024-08-27T17:37:14.781Z"
   },
   {
    "duration": 116,
    "start_time": "2024-08-27T17:37:28.128Z"
   },
   {
    "duration": 34,
    "start_time": "2024-08-27T17:40:00.381Z"
   },
   {
    "duration": 34,
    "start_time": "2024-08-27T19:29:15.374Z"
   },
   {
    "duration": 33,
    "start_time": "2024-08-27T19:29:23.517Z"
   },
   {
    "duration": 31,
    "start_time": "2024-08-27T19:30:50.739Z"
   },
   {
    "duration": 5,
    "start_time": "2024-08-27T19:31:45.774Z"
   },
   {
    "duration": 59,
    "start_time": "2024-08-27T19:36:09.727Z"
   },
   {
    "duration": 51,
    "start_time": "2024-08-27T19:36:25.368Z"
   },
   {
    "duration": 112,
    "start_time": "2024-08-27T19:36:42.830Z"
   },
   {
    "duration": 5,
    "start_time": "2024-08-27T19:37:30.238Z"
   },
   {
    "duration": 5,
    "start_time": "2024-08-27T19:37:48.145Z"
   },
   {
    "duration": 755,
    "start_time": "2024-08-27T19:39:33.891Z"
   },
   {
    "duration": 104,
    "start_time": "2024-08-27T19:39:34.649Z"
   },
   {
    "duration": 134,
    "start_time": "2024-08-27T19:39:34.754Z"
   },
   {
    "duration": 118,
    "start_time": "2024-08-27T19:39:34.890Z"
   },
   {
    "duration": 16,
    "start_time": "2024-08-27T19:39:35.011Z"
   },
   {
    "duration": 11,
    "start_time": "2024-08-27T19:39:35.029Z"
   },
   {
    "duration": 7,
    "start_time": "2024-08-27T19:39:35.042Z"
   },
   {
    "duration": 3,
    "start_time": "2024-08-27T19:39:35.051Z"
   },
   {
    "duration": 54,
    "start_time": "2024-08-27T19:39:35.056Z"
   },
   {
    "duration": 387,
    "start_time": "2024-08-27T19:39:35.112Z"
   },
   {
    "duration": 54,
    "start_time": "2024-08-27T19:39:35.501Z"
   },
   {
    "duration": 20,
    "start_time": "2024-08-27T19:39:35.557Z"
   },
   {
    "duration": 63,
    "start_time": "2024-08-27T19:39:35.579Z"
   },
   {
    "duration": 9,
    "start_time": "2024-08-27T19:39:35.646Z"
   },
   {
    "duration": 106,
    "start_time": "2024-08-27T19:39:35.656Z"
   },
   {
    "duration": 35,
    "start_time": "2024-08-27T19:39:35.764Z"
   },
   {
    "duration": 20,
    "start_time": "2024-08-27T19:39:35.809Z"
   },
   {
    "duration": 16,
    "start_time": "2024-08-27T19:39:35.831Z"
   },
   {
    "duration": 33,
    "start_time": "2024-08-27T19:39:35.849Z"
   },
   {
    "duration": 4,
    "start_time": "2024-08-27T19:39:35.908Z"
   },
   {
    "duration": 4,
    "start_time": "2024-08-27T19:39:35.914Z"
   },
   {
    "duration": 6,
    "start_time": "2024-08-27T19:39:35.921Z"
   },
   {
    "duration": 318,
    "start_time": "2024-08-27T19:39:35.929Z"
   },
   {
    "duration": 131,
    "start_time": "2024-08-27T19:39:44.056Z"
   },
   {
    "duration": 117,
    "start_time": "2024-08-27T19:39:54.422Z"
   },
   {
    "duration": 790,
    "start_time": "2024-08-27T19:40:00.424Z"
   },
   {
    "duration": 103,
    "start_time": "2024-08-27T19:40:01.216Z"
   },
   {
    "duration": 137,
    "start_time": "2024-08-27T19:40:01.321Z"
   },
   {
    "duration": 117,
    "start_time": "2024-08-27T19:40:01.459Z"
   },
   {
    "duration": 15,
    "start_time": "2024-08-27T19:40:01.579Z"
   },
   {
    "duration": 18,
    "start_time": "2024-08-27T19:40:01.595Z"
   },
   {
    "duration": 6,
    "start_time": "2024-08-27T19:40:01.615Z"
   },
   {
    "duration": 3,
    "start_time": "2024-08-27T19:40:01.622Z"
   },
   {
    "duration": 23,
    "start_time": "2024-08-27T19:40:01.626Z"
   },
   {
    "duration": 405,
    "start_time": "2024-08-27T19:40:01.651Z"
   },
   {
    "duration": 61,
    "start_time": "2024-08-27T19:40:02.058Z"
   },
   {
    "duration": 20,
    "start_time": "2024-08-27T19:40:02.121Z"
   },
   {
    "duration": 37,
    "start_time": "2024-08-27T19:40:02.143Z"
   },
   {
    "duration": 25,
    "start_time": "2024-08-27T19:40:02.184Z"
   },
   {
    "duration": 99,
    "start_time": "2024-08-27T19:40:02.210Z"
   },
   {
    "duration": 34,
    "start_time": "2024-08-27T19:40:02.310Z"
   },
   {
    "duration": 22,
    "start_time": "2024-08-27T19:40:02.346Z"
   },
   {
    "duration": 39,
    "start_time": "2024-08-27T19:40:02.370Z"
   },
   {
    "duration": 32,
    "start_time": "2024-08-27T19:40:02.410Z"
   },
   {
    "duration": 5,
    "start_time": "2024-08-27T19:40:02.444Z"
   },
   {
    "duration": 5,
    "start_time": "2024-08-27T19:40:02.451Z"
   },
   {
    "duration": 5,
    "start_time": "2024-08-27T19:40:02.457Z"
   },
   {
    "duration": 140,
    "start_time": "2024-08-27T19:40:02.464Z"
   },
   {
    "duration": 733,
    "start_time": "2024-08-31T03:19:32.467Z"
   },
   {
    "duration": 139,
    "start_time": "2024-08-31T03:19:33.202Z"
   },
   {
    "duration": 130,
    "start_time": "2024-08-31T03:19:33.343Z"
   },
   {
    "duration": 126,
    "start_time": "2024-08-31T03:19:33.474Z"
   },
   {
    "duration": 15,
    "start_time": "2024-08-31T03:19:33.602Z"
   },
   {
    "duration": 9,
    "start_time": "2024-08-31T03:19:33.618Z"
   },
   {
    "duration": 6,
    "start_time": "2024-08-31T03:19:33.628Z"
   },
   {
    "duration": 3,
    "start_time": "2024-08-31T03:19:33.635Z"
   },
   {
    "duration": 52,
    "start_time": "2024-08-31T03:19:33.640Z"
   },
   {
    "duration": 399,
    "start_time": "2024-08-31T03:19:33.694Z"
   },
   {
    "duration": 49,
    "start_time": "2024-08-31T03:19:34.095Z"
   },
   {
    "duration": 21,
    "start_time": "2024-08-31T03:19:34.146Z"
   },
   {
    "duration": 54,
    "start_time": "2024-08-31T03:19:34.168Z"
   },
   {
    "duration": 7,
    "start_time": "2024-08-31T03:19:34.225Z"
   },
   {
    "duration": 102,
    "start_time": "2024-08-31T03:19:34.234Z"
   },
   {
    "duration": 33,
    "start_time": "2024-08-31T03:19:34.337Z"
   },
   {
    "duration": 30,
    "start_time": "2024-08-31T03:19:34.372Z"
   },
   {
    "duration": 17,
    "start_time": "2024-08-31T03:19:34.404Z"
   },
   {
    "duration": 31,
    "start_time": "2024-08-31T03:19:34.422Z"
   },
   {
    "duration": 5,
    "start_time": "2024-08-31T03:19:34.454Z"
   },
   {
    "duration": 28,
    "start_time": "2024-08-31T03:19:34.461Z"
   },
   {
    "duration": 6,
    "start_time": "2024-08-31T03:19:34.490Z"
   },
   {
    "duration": 121,
    "start_time": "2024-08-31T03:19:34.497Z"
   },
   {
    "duration": 2391,
    "start_time": "2024-08-31T22:49:00.663Z"
   },
   {
    "duration": 160,
    "start_time": "2024-08-31T22:49:03.056Z"
   },
   {
    "duration": 134,
    "start_time": "2024-08-31T22:49:03.218Z"
   },
   {
    "duration": 118,
    "start_time": "2024-08-31T22:49:03.354Z"
   },
   {
    "duration": 16,
    "start_time": "2024-08-31T22:49:03.475Z"
   },
   {
    "duration": 18,
    "start_time": "2024-08-31T22:49:03.493Z"
   },
   {
    "duration": 6,
    "start_time": "2024-08-31T22:49:03.512Z"
   },
   {
    "duration": 2,
    "start_time": "2024-08-31T22:49:03.521Z"
   },
   {
    "duration": 23,
    "start_time": "2024-08-31T22:49:03.525Z"
   },
   {
    "duration": 440,
    "start_time": "2024-08-31T22:49:03.551Z"
   },
   {
    "duration": 60,
    "start_time": "2024-08-31T22:49:03.992Z"
   },
   {
    "duration": 21,
    "start_time": "2024-08-31T22:49:04.054Z"
   },
   {
    "duration": 55,
    "start_time": "2024-08-31T22:49:04.076Z"
   },
   {
    "duration": 8,
    "start_time": "2024-08-31T22:49:04.132Z"
   },
   {
    "duration": 109,
    "start_time": "2024-08-31T22:49:04.141Z"
   },
   {
    "duration": 34,
    "start_time": "2024-08-31T22:49:04.252Z"
   },
   {
    "duration": 35,
    "start_time": "2024-08-31T22:49:04.288Z"
   },
   {
    "duration": 17,
    "start_time": "2024-08-31T22:49:04.325Z"
   },
   {
    "duration": 32,
    "start_time": "2024-08-31T22:49:04.344Z"
   },
   {
    "duration": 5,
    "start_time": "2024-08-31T22:49:04.377Z"
   },
   {
    "duration": 6,
    "start_time": "2024-08-31T22:49:04.409Z"
   },
   {
    "duration": 5,
    "start_time": "2024-08-31T22:49:04.416Z"
   },
   {
    "duration": 141,
    "start_time": "2024-08-31T22:49:04.423Z"
   },
   {
    "duration": 53,
    "start_time": "2024-08-31T22:49:27.594Z"
   },
   {
    "duration": 51,
    "start_time": "2024-08-31T22:50:35.123Z"
   },
   {
    "duration": 48,
    "start_time": "2024-08-31T22:50:44.016Z"
   },
   {
    "duration": 47,
    "start_time": "2024-08-31T22:50:51.281Z"
   },
   {
    "duration": 196,
    "start_time": "2024-08-31T23:04:51.024Z"
   },
   {
    "duration": 245,
    "start_time": "2024-08-31T23:05:42.752Z"
   },
   {
    "duration": 5,
    "start_time": "2024-08-31T23:14:40.970Z"
   },
   {
    "duration": 485,
    "start_time": "2024-08-31T23:34:17.005Z"
   },
   {
    "duration": 812,
    "start_time": "2024-08-31T23:34:27.110Z"
   },
   {
    "duration": 108,
    "start_time": "2024-08-31T23:34:27.924Z"
   },
   {
    "duration": 149,
    "start_time": "2024-08-31T23:34:28.035Z"
   },
   {
    "duration": 117,
    "start_time": "2024-08-31T23:34:28.188Z"
   },
   {
    "duration": 15,
    "start_time": "2024-08-31T23:34:28.309Z"
   },
   {
    "duration": 10,
    "start_time": "2024-08-31T23:34:28.326Z"
   },
   {
    "duration": 6,
    "start_time": "2024-08-31T23:34:28.337Z"
   },
   {
    "duration": 2,
    "start_time": "2024-08-31T23:34:28.345Z"
   },
   {
    "duration": 25,
    "start_time": "2024-08-31T23:34:28.350Z"
   },
   {
    "duration": 395,
    "start_time": "2024-08-31T23:34:28.408Z"
   },
   {
    "duration": 57,
    "start_time": "2024-08-31T23:34:28.805Z"
   },
   {
    "duration": 20,
    "start_time": "2024-08-31T23:34:28.866Z"
   },
   {
    "duration": 54,
    "start_time": "2024-08-31T23:34:28.887Z"
   },
   {
    "duration": 8,
    "start_time": "2024-08-31T23:34:28.943Z"
   },
   {
    "duration": 268,
    "start_time": "2024-08-31T23:34:28.953Z"
   },
   {
    "duration": 39,
    "start_time": "2024-08-31T23:34:29.224Z"
   },
   {
    "duration": 26,
    "start_time": "2024-08-31T23:34:29.265Z"
   },
   {
    "duration": 20,
    "start_time": "2024-08-31T23:34:29.293Z"
   },
   {
    "duration": 36,
    "start_time": "2024-08-31T23:34:29.315Z"
   },
   {
    "duration": 4,
    "start_time": "2024-08-31T23:34:29.353Z"
   },
   {
    "duration": 6,
    "start_time": "2024-08-31T23:34:29.359Z"
   },
   {
    "duration": 5,
    "start_time": "2024-08-31T23:34:29.367Z"
   },
   {
    "duration": 552,
    "start_time": "2024-08-31T23:34:29.373Z"
   },
   {
    "duration": 120,
    "start_time": "2024-08-31T23:36:11.607Z"
   },
   {
    "duration": 124,
    "start_time": "2024-08-31T23:37:11.771Z"
   },
   {
    "duration": 2529,
    "start_time": "2024-09-02T21:17:11.749Z"
   },
   {
    "duration": 742,
    "start_time": "2024-09-02T21:17:21.102Z"
   },
   {
    "duration": 132,
    "start_time": "2024-09-02T21:17:21.846Z"
   },
   {
    "duration": 125,
    "start_time": "2024-09-02T21:17:21.980Z"
   },
   {
    "duration": 108,
    "start_time": "2024-09-02T21:17:22.108Z"
   },
   {
    "duration": 15,
    "start_time": "2024-09-02T21:17:22.219Z"
   },
   {
    "duration": 9,
    "start_time": "2024-09-02T21:17:22.235Z"
   },
   {
    "duration": 7,
    "start_time": "2024-09-02T21:17:22.246Z"
   },
   {
    "duration": 3,
    "start_time": "2024-09-02T21:17:22.254Z"
   },
   {
    "duration": 51,
    "start_time": "2024-09-02T21:17:22.258Z"
   },
   {
    "duration": 416,
    "start_time": "2024-09-02T21:17:22.310Z"
   },
   {
    "duration": 62,
    "start_time": "2024-09-02T21:17:22.728Z"
   },
   {
    "duration": 30,
    "start_time": "2024-09-02T21:17:22.792Z"
   },
   {
    "duration": 37,
    "start_time": "2024-09-02T21:17:22.824Z"
   },
   {
    "duration": 6,
    "start_time": "2024-09-02T21:17:22.864Z"
   },
   {
    "duration": 278,
    "start_time": "2024-09-02T21:17:22.872Z"
   },
   {
    "duration": 35,
    "start_time": "2024-09-02T21:17:23.151Z"
   },
   {
    "duration": 21,
    "start_time": "2024-09-02T21:17:23.188Z"
   },
   {
    "duration": 17,
    "start_time": "2024-09-02T21:17:23.211Z"
   },
   {
    "duration": 32,
    "start_time": "2024-09-02T21:17:23.231Z"
   },
   {
    "duration": 5,
    "start_time": "2024-09-02T21:17:23.264Z"
   },
   {
    "duration": 5,
    "start_time": "2024-09-02T21:17:23.270Z"
   },
   {
    "duration": 5,
    "start_time": "2024-09-02T21:17:23.276Z"
   },
   {
    "duration": 140,
    "start_time": "2024-09-02T21:17:23.283Z"
   },
   {
    "duration": 124,
    "start_time": "2024-09-02T21:17:23.424Z"
   },
   {
    "duration": 7,
    "start_time": "2024-09-02T21:21:35.604Z"
   },
   {
    "duration": 281,
    "start_time": "2024-09-02T21:22:06.486Z"
   },
   {
    "duration": 21,
    "start_time": "2024-09-02T21:22:16.011Z"
   },
   {
    "duration": 8,
    "start_time": "2024-09-02T21:22:32.668Z"
   },
   {
    "duration": 33,
    "start_time": "2024-09-02T21:23:48.745Z"
   },
   {
    "duration": 440,
    "start_time": "2024-09-02T21:24:11.081Z"
   },
   {
    "duration": 34,
    "start_time": "2024-09-02T21:24:22.202Z"
   },
   {
    "duration": 164,
    "start_time": "2024-09-03T03:20:46.784Z"
   },
   {
    "duration": 2426,
    "start_time": "2024-09-03T03:20:53.850Z"
   },
   {
    "duration": 171,
    "start_time": "2024-09-03T03:20:56.278Z"
   },
   {
    "duration": 124,
    "start_time": "2024-09-03T03:20:56.451Z"
   },
   {
    "duration": 116,
    "start_time": "2024-09-03T03:20:56.578Z"
   },
   {
    "duration": 19,
    "start_time": "2024-09-03T03:20:56.696Z"
   },
   {
    "duration": 10,
    "start_time": "2024-09-03T03:20:56.716Z"
   },
   {
    "duration": 7,
    "start_time": "2024-09-03T03:20:56.728Z"
   },
   {
    "duration": 3,
    "start_time": "2024-09-03T03:20:56.736Z"
   },
   {
    "duration": 21,
    "start_time": "2024-09-03T03:20:56.741Z"
   },
   {
    "duration": 436,
    "start_time": "2024-09-03T03:20:56.765Z"
   },
   {
    "duration": 56,
    "start_time": "2024-09-03T03:20:57.203Z"
   },
   {
    "duration": 20,
    "start_time": "2024-09-03T03:20:57.261Z"
   },
   {
    "duration": 55,
    "start_time": "2024-09-03T03:20:57.283Z"
   },
   {
    "duration": 7,
    "start_time": "2024-09-03T03:20:57.340Z"
   },
   {
    "duration": 254,
    "start_time": "2024-09-03T03:20:57.348Z"
   },
   {
    "duration": 35,
    "start_time": "2024-09-03T03:20:57.603Z"
   },
   {
    "duration": 22,
    "start_time": "2024-09-03T03:20:57.640Z"
   },
   {
    "duration": 17,
    "start_time": "2024-09-03T03:20:57.663Z"
   },
   {
    "duration": 617,
    "start_time": "2024-09-03T03:20:57.682Z"
   },
   {
    "duration": 0,
    "start_time": "2024-09-03T03:20:58.301Z"
   },
   {
    "duration": 0,
    "start_time": "2024-09-03T03:20:58.301Z"
   },
   {
    "duration": 0,
    "start_time": "2024-09-03T03:20:58.302Z"
   },
   {
    "duration": 0,
    "start_time": "2024-09-03T03:20:58.305Z"
   },
   {
    "duration": 0,
    "start_time": "2024-09-03T03:20:58.305Z"
   },
   {
    "duration": 0,
    "start_time": "2024-09-03T03:20:58.307Z"
   },
   {
    "duration": 45,
    "start_time": "2024-09-03T03:22:47.535Z"
   },
   {
    "duration": 46,
    "start_time": "2024-09-03T03:24:26.082Z"
   },
   {
    "duration": 45,
    "start_time": "2024-09-03T03:24:30.803Z"
   },
   {
    "duration": 46,
    "start_time": "2024-09-03T03:24:36.442Z"
   },
   {
    "duration": 46,
    "start_time": "2024-09-03T03:24:40.729Z"
   },
   {
    "duration": 34,
    "start_time": "2024-09-03T03:24:47.970Z"
   },
   {
    "duration": 49,
    "start_time": "2024-09-03T03:26:10.629Z"
   },
   {
    "duration": 35,
    "start_time": "2024-09-03T03:26:31.789Z"
   },
   {
    "duration": 25,
    "start_time": "2024-09-03T03:28:27.335Z"
   },
   {
    "duration": 403,
    "start_time": "2024-09-03T03:28:45.803Z"
   },
   {
    "duration": 43,
    "start_time": "2024-09-03T03:29:17.510Z"
   },
   {
    "duration": 41,
    "start_time": "2024-09-03T03:29:24.598Z"
   },
   {
    "duration": 14,
    "start_time": "2024-09-03T03:29:36.671Z"
   },
   {
    "duration": 15,
    "start_time": "2024-09-03T03:29:48.428Z"
   },
   {
    "duration": 63,
    "start_time": "2024-09-03T03:30:34.114Z"
   },
   {
    "duration": 46,
    "start_time": "2024-09-03T03:31:19.731Z"
   },
   {
    "duration": 16,
    "start_time": "2024-09-03T03:31:31.767Z"
   },
   {
    "duration": 3,
    "start_time": "2024-09-03T03:33:31.572Z"
   },
   {
    "duration": 42,
    "start_time": "2024-09-03T03:39:13.914Z"
   },
   {
    "duration": 2,
    "start_time": "2024-09-03T03:39:33.453Z"
   },
   {
    "duration": 44,
    "start_time": "2024-09-03T03:40:25.898Z"
   },
   {
    "duration": 43,
    "start_time": "2024-09-03T03:40:42.492Z"
   },
   {
    "duration": 38,
    "start_time": "2024-09-03T03:40:55.568Z"
   },
   {
    "duration": 2,
    "start_time": "2024-09-03T03:41:38.148Z"
   },
   {
    "duration": 6,
    "start_time": "2024-09-03T03:42:52.082Z"
   },
   {
    "duration": 45,
    "start_time": "2024-09-03T03:45:14.599Z"
   },
   {
    "duration": 43,
    "start_time": "2024-09-03T03:45:32.660Z"
   },
   {
    "duration": 93,
    "start_time": "2024-09-03T03:47:08.785Z"
   },
   {
    "duration": 25,
    "start_time": "2024-09-03T03:48:52.105Z"
   },
   {
    "duration": 25,
    "start_time": "2024-09-03T03:49:02.656Z"
   },
   {
    "duration": 26,
    "start_time": "2024-09-03T03:49:17.370Z"
   },
   {
    "duration": 27,
    "start_time": "2024-09-03T03:50:44.344Z"
   },
   {
    "duration": 24,
    "start_time": "2024-09-03T03:51:23.417Z"
   },
   {
    "duration": 23,
    "start_time": "2024-09-03T03:51:50.153Z"
   },
   {
    "duration": 21,
    "start_time": "2024-09-03T03:52:04.081Z"
   },
   {
    "duration": 2,
    "start_time": "2024-09-03T03:52:54.665Z"
   },
   {
    "duration": 2,
    "start_time": "2024-09-03T03:53:03.465Z"
   },
   {
    "duration": 2,
    "start_time": "2024-09-03T03:53:15.132Z"
   },
   {
    "duration": 2,
    "start_time": "2024-09-03T03:53:26.514Z"
   },
   {
    "duration": 2,
    "start_time": "2024-09-03T03:53:37.549Z"
   },
   {
    "duration": 4,
    "start_time": "2024-09-03T03:54:20.905Z"
   },
   {
    "duration": 775,
    "start_time": "2024-09-03T03:59:29.856Z"
   },
   {
    "duration": 105,
    "start_time": "2024-09-03T03:59:30.634Z"
   },
   {
    "duration": 129,
    "start_time": "2024-09-03T03:59:30.741Z"
   },
   {
    "duration": 120,
    "start_time": "2024-09-03T03:59:30.872Z"
   },
   {
    "duration": 19,
    "start_time": "2024-09-03T03:59:30.994Z"
   },
   {
    "duration": 10,
    "start_time": "2024-09-03T03:59:31.014Z"
   },
   {
    "duration": 6,
    "start_time": "2024-09-03T03:59:31.026Z"
   },
   {
    "duration": 3,
    "start_time": "2024-09-03T03:59:31.033Z"
   },
   {
    "duration": 23,
    "start_time": "2024-09-03T03:59:31.037Z"
   },
   {
    "duration": 422,
    "start_time": "2024-09-03T03:59:31.063Z"
   },
   {
    "duration": 62,
    "start_time": "2024-09-03T03:59:31.486Z"
   },
   {
    "duration": 19,
    "start_time": "2024-09-03T03:59:31.550Z"
   },
   {
    "duration": 53,
    "start_time": "2024-09-03T03:59:31.571Z"
   },
   {
    "duration": 8,
    "start_time": "2024-09-03T03:59:31.626Z"
   },
   {
    "duration": 251,
    "start_time": "2024-09-03T03:59:31.635Z"
   },
   {
    "duration": 33,
    "start_time": "2024-09-03T03:59:31.888Z"
   },
   {
    "duration": 24,
    "start_time": "2024-09-03T03:59:31.923Z"
   },
   {
    "duration": 17,
    "start_time": "2024-09-03T03:59:31.949Z"
   },
   {
    "duration": 57,
    "start_time": "2024-09-03T03:59:31.967Z"
   },
   {
    "duration": 36,
    "start_time": "2024-09-03T03:59:32.026Z"
   },
   {
    "duration": 18,
    "start_time": "2024-09-03T03:59:32.064Z"
   },
   {
    "duration": 3,
    "start_time": "2024-09-03T03:59:32.084Z"
   },
   {
    "duration": 4,
    "start_time": "2024-09-03T03:59:32.106Z"
   },
   {
    "duration": 41,
    "start_time": "2024-09-03T03:59:32.112Z"
   },
   {
    "duration": 2,
    "start_time": "2024-09-03T03:59:32.155Z"
   },
   {
    "duration": 66,
    "start_time": "2024-09-03T03:59:32.159Z"
   },
   {
    "duration": 3,
    "start_time": "2024-09-03T03:59:32.227Z"
   },
   {
    "duration": 39,
    "start_time": "2024-09-03T03:59:32.234Z"
   },
   {
    "duration": 2,
    "start_time": "2024-09-03T03:59:32.275Z"
   },
   {
    "duration": 56,
    "start_time": "2024-09-03T03:59:32.279Z"
   },
   {
    "duration": 3,
    "start_time": "2024-09-03T03:59:32.336Z"
   },
   {
    "duration": 26,
    "start_time": "2024-09-03T03:59:32.341Z"
   },
   {
    "duration": 5,
    "start_time": "2024-09-03T03:59:32.368Z"
   },
   {
    "duration": 40,
    "start_time": "2024-09-03T03:59:32.375Z"
   },
   {
    "duration": 2,
    "start_time": "2024-09-03T03:59:32.417Z"
   },
   {
    "duration": 35,
    "start_time": "2024-09-03T03:59:32.422Z"
   },
   {
    "duration": 2,
    "start_time": "2024-09-03T03:59:32.459Z"
   },
   {
    "duration": 43,
    "start_time": "2024-09-03T03:59:32.462Z"
   },
   {
    "duration": 3,
    "start_time": "2024-09-03T03:59:32.507Z"
   },
   {
    "duration": 26,
    "start_time": "2024-09-03T03:59:32.512Z"
   },
   {
    "duration": 2433,
    "start_time": "2024-09-04T00:33:14.455Z"
   },
   {
    "duration": 137,
    "start_time": "2024-09-04T00:33:16.890Z"
   },
   {
    "duration": 122,
    "start_time": "2024-09-04T00:33:17.029Z"
   },
   {
    "duration": 109,
    "start_time": "2024-09-04T00:33:17.154Z"
   },
   {
    "duration": 14,
    "start_time": "2024-09-04T00:33:17.265Z"
   },
   {
    "duration": 9,
    "start_time": "2024-09-04T00:33:17.280Z"
   },
   {
    "duration": 6,
    "start_time": "2024-09-04T00:33:17.305Z"
   },
   {
    "duration": 3,
    "start_time": "2024-09-04T00:33:17.312Z"
   },
   {
    "duration": 22,
    "start_time": "2024-09-04T00:33:17.317Z"
   },
   {
    "duration": 398,
    "start_time": "2024-09-04T00:33:17.342Z"
   },
   {
    "duration": 65,
    "start_time": "2024-09-04T00:33:17.742Z"
   },
   {
    "duration": 21,
    "start_time": "2024-09-04T00:33:17.810Z"
   },
   {
    "duration": 36,
    "start_time": "2024-09-04T00:33:17.833Z"
   },
   {
    "duration": 7,
    "start_time": "2024-09-04T00:33:17.871Z"
   },
   {
    "duration": 258,
    "start_time": "2024-09-04T00:33:17.880Z"
   },
   {
    "duration": 33,
    "start_time": "2024-09-04T00:33:18.139Z"
   },
   {
    "duration": 21,
    "start_time": "2024-09-04T00:33:18.174Z"
   },
   {
    "duration": 22,
    "start_time": "2024-09-04T00:33:18.197Z"
   },
   {
    "duration": 47,
    "start_time": "2024-09-04T00:33:18.221Z"
   },
   {
    "duration": 46,
    "start_time": "2024-09-04T00:33:18.270Z"
   },
   {
    "duration": 14,
    "start_time": "2024-09-04T00:33:18.318Z"
   },
   {
    "duration": 4,
    "start_time": "2024-09-04T00:33:18.334Z"
   },
   {
    "duration": 2,
    "start_time": "2024-09-04T00:33:18.340Z"
   },
   {
    "duration": 61,
    "start_time": "2024-09-04T00:33:18.344Z"
   },
   {
    "duration": 2,
    "start_time": "2024-09-04T00:33:18.407Z"
   },
   {
    "duration": 41,
    "start_time": "2024-09-04T00:33:18.411Z"
   },
   {
    "duration": 2,
    "start_time": "2024-09-04T00:33:18.455Z"
   },
   {
    "duration": 64,
    "start_time": "2024-09-04T00:33:18.462Z"
   },
   {
    "duration": 2,
    "start_time": "2024-09-04T00:33:18.528Z"
   },
   {
    "duration": 38,
    "start_time": "2024-09-04T00:33:18.532Z"
   },
   {
    "duration": 3,
    "start_time": "2024-09-04T00:33:18.571Z"
   },
   {
    "duration": 46,
    "start_time": "2024-09-04T00:33:18.575Z"
   },
   {
    "duration": 2,
    "start_time": "2024-09-04T00:33:18.623Z"
   },
   {
    "duration": 23,
    "start_time": "2024-09-04T00:33:18.627Z"
   },
   {
    "duration": 3,
    "start_time": "2024-09-04T00:33:18.652Z"
   },
   {
    "duration": 49,
    "start_time": "2024-09-04T00:33:18.656Z"
   },
   {
    "duration": 2,
    "start_time": "2024-09-04T00:33:18.707Z"
   },
   {
    "duration": 23,
    "start_time": "2024-09-04T00:33:18.711Z"
   },
   {
    "duration": 2,
    "start_time": "2024-09-04T00:33:18.736Z"
   },
   {
    "duration": 24,
    "start_time": "2024-09-04T00:33:18.740Z"
   },
   {
    "duration": 162,
    "start_time": "2024-09-04T13:10:42.165Z"
   },
   {
    "duration": 2422,
    "start_time": "2024-09-04T13:10:49.341Z"
   },
   {
    "duration": 224,
    "start_time": "2024-09-04T13:10:51.765Z"
   },
   {
    "duration": 130,
    "start_time": "2024-09-04T13:10:51.991Z"
   },
   {
    "duration": 115,
    "start_time": "2024-09-04T13:10:52.124Z"
   },
   {
    "duration": 15,
    "start_time": "2024-09-04T13:10:52.240Z"
   },
   {
    "duration": 9,
    "start_time": "2024-09-04T13:10:52.257Z"
   },
   {
    "duration": 23,
    "start_time": "2024-09-04T13:10:52.267Z"
   },
   {
    "duration": 3,
    "start_time": "2024-09-04T13:10:52.291Z"
   },
   {
    "duration": 22,
    "start_time": "2024-09-04T13:10:52.295Z"
   },
   {
    "duration": 405,
    "start_time": "2024-09-04T13:10:52.321Z"
   },
   {
    "duration": 63,
    "start_time": "2024-09-04T13:10:52.728Z"
   },
   {
    "duration": 19,
    "start_time": "2024-09-04T13:10:52.794Z"
   },
   {
    "duration": 36,
    "start_time": "2024-09-04T13:10:52.815Z"
   },
   {
    "duration": 8,
    "start_time": "2024-09-04T13:10:52.852Z"
   },
   {
    "duration": 281,
    "start_time": "2024-09-04T13:10:52.862Z"
   },
   {
    "duration": 44,
    "start_time": "2024-09-04T13:10:53.145Z"
   },
   {
    "duration": 24,
    "start_time": "2024-09-04T13:10:53.191Z"
   },
   {
    "duration": 17,
    "start_time": "2024-09-04T13:10:53.217Z"
   },
   {
    "duration": 62,
    "start_time": "2024-09-04T13:10:53.236Z"
   },
   {
    "duration": 34,
    "start_time": "2024-09-04T13:10:53.301Z"
   },
   {
    "duration": 14,
    "start_time": "2024-09-04T13:10:53.337Z"
   },
   {
    "duration": 4,
    "start_time": "2024-09-04T13:10:53.352Z"
   },
   {
    "duration": 2,
    "start_time": "2024-09-04T13:10:53.360Z"
   },
   {
    "duration": 47,
    "start_time": "2024-09-04T13:10:53.386Z"
   },
   {
    "duration": 2,
    "start_time": "2024-09-04T13:10:53.435Z"
   },
   {
    "duration": 58,
    "start_time": "2024-09-04T13:10:53.438Z"
   },
   {
    "duration": 2,
    "start_time": "2024-09-04T13:10:53.498Z"
   },
   {
    "duration": 40,
    "start_time": "2024-09-04T13:10:53.504Z"
   },
   {
    "duration": 3,
    "start_time": "2024-09-04T13:10:53.546Z"
   },
   {
    "duration": 62,
    "start_time": "2024-09-04T13:10:53.550Z"
   },
   {
    "duration": 2,
    "start_time": "2024-09-04T13:10:53.614Z"
   },
   {
    "duration": 24,
    "start_time": "2024-09-04T13:10:53.617Z"
   },
   {
    "duration": 2,
    "start_time": "2024-09-04T13:10:53.644Z"
   },
   {
    "duration": 51,
    "start_time": "2024-09-04T13:10:53.648Z"
   },
   {
    "duration": 2,
    "start_time": "2024-09-04T13:10:53.701Z"
   },
   {
    "duration": 23,
    "start_time": "2024-09-04T13:10:53.705Z"
   },
   {
    "duration": 2,
    "start_time": "2024-09-04T13:10:53.730Z"
   },
   {
    "duration": 22,
    "start_time": "2024-09-04T13:10:53.734Z"
   },
   {
    "duration": 29,
    "start_time": "2024-09-04T13:10:53.757Z"
   },
   {
    "duration": 23,
    "start_time": "2024-09-04T13:10:53.789Z"
   },
   {
    "duration": 42,
    "start_time": "2024-09-04T13:11:08.558Z"
   },
   {
    "duration": 40,
    "start_time": "2024-09-04T13:11:14.494Z"
   },
   {
    "duration": 38,
    "start_time": "2024-09-04T13:11:19.614Z"
   },
   {
    "duration": 26,
    "start_time": "2024-09-04T13:11:29.621Z"
   },
   {
    "duration": 25,
    "start_time": "2024-09-04T13:11:37.292Z"
   },
   {
    "duration": 27,
    "start_time": "2024-09-04T13:11:41.856Z"
   },
   {
    "duration": 25,
    "start_time": "2024-09-04T13:11:46.035Z"
   },
   {
    "duration": 22,
    "start_time": "2024-09-04T13:11:51.748Z"
   },
   {
    "duration": 756,
    "start_time": "2024-09-04T13:16:05.941Z"
   },
   {
    "duration": 103,
    "start_time": "2024-09-04T13:16:06.700Z"
   },
   {
    "duration": 133,
    "start_time": "2024-09-04T13:16:06.805Z"
   },
   {
    "duration": 118,
    "start_time": "2024-09-04T13:16:06.940Z"
   },
   {
    "duration": 14,
    "start_time": "2024-09-04T13:16:07.060Z"
   },
   {
    "duration": 19,
    "start_time": "2024-09-04T13:16:07.075Z"
   },
   {
    "duration": 6,
    "start_time": "2024-09-04T13:16:07.095Z"
   },
   {
    "duration": 3,
    "start_time": "2024-09-04T13:16:07.102Z"
   },
   {
    "duration": 22,
    "start_time": "2024-09-04T13:16:07.107Z"
   },
   {
    "duration": 403,
    "start_time": "2024-09-04T13:16:07.132Z"
   },
   {
    "duration": 65,
    "start_time": "2024-09-04T13:16:07.537Z"
   },
   {
    "duration": 19,
    "start_time": "2024-09-04T13:16:07.604Z"
   },
   {
    "duration": 38,
    "start_time": "2024-09-04T13:16:07.625Z"
   },
   {
    "duration": 28,
    "start_time": "2024-09-04T13:16:07.665Z"
   },
   {
    "duration": 254,
    "start_time": "2024-09-04T13:16:07.694Z"
   },
   {
    "duration": 34,
    "start_time": "2024-09-04T13:16:07.949Z"
   },
   {
    "duration": 22,
    "start_time": "2024-09-04T13:16:07.985Z"
   },
   {
    "duration": 17,
    "start_time": "2024-09-04T13:16:08.009Z"
   },
   {
    "duration": 42,
    "start_time": "2024-09-04T13:16:08.028Z"
   },
   {
    "duration": 46,
    "start_time": "2024-09-04T13:16:08.072Z"
   },
   {
    "duration": 18,
    "start_time": "2024-09-04T13:16:08.120Z"
   },
   {
    "duration": 4,
    "start_time": "2024-09-04T13:16:08.140Z"
   },
   {
    "duration": 3,
    "start_time": "2024-09-04T13:16:08.146Z"
   },
   {
    "duration": 65,
    "start_time": "2024-09-04T13:16:08.150Z"
   },
   {
    "duration": 2,
    "start_time": "2024-09-04T13:16:08.217Z"
   },
   {
    "duration": 43,
    "start_time": "2024-09-04T13:16:08.221Z"
   },
   {
    "duration": 21,
    "start_time": "2024-09-04T13:16:08.266Z"
   },
   {
    "duration": 39,
    "start_time": "2024-09-04T13:16:08.290Z"
   },
   {
    "duration": 2,
    "start_time": "2024-09-04T13:16:08.331Z"
   },
   {
    "duration": 53,
    "start_time": "2024-09-04T13:16:08.335Z"
   },
   {
    "duration": 2,
    "start_time": "2024-09-04T13:16:08.390Z"
   },
   {
    "duration": 25,
    "start_time": "2024-09-04T13:16:08.394Z"
   },
   {
    "duration": 2,
    "start_time": "2024-09-04T13:16:08.421Z"
   },
   {
    "duration": 23,
    "start_time": "2024-09-04T13:16:08.424Z"
   },
   {
    "duration": 2,
    "start_time": "2024-09-04T13:16:08.448Z"
   },
   {
    "duration": 55,
    "start_time": "2024-09-04T13:16:08.452Z"
   },
   {
    "duration": 2,
    "start_time": "2024-09-04T13:16:08.509Z"
   },
   {
    "duration": 22,
    "start_time": "2024-09-04T13:16:08.513Z"
   },
   {
    "duration": 2,
    "start_time": "2024-09-04T13:16:08.537Z"
   },
   {
    "duration": 46,
    "start_time": "2024-09-04T13:16:08.541Z"
   },
   {
    "duration": 4,
    "start_time": "2024-09-04T13:18:35.046Z"
   },
   {
    "duration": 3,
    "start_time": "2024-09-04T13:18:41.895Z"
   },
   {
    "duration": 4,
    "start_time": "2024-09-04T13:18:51.056Z"
   },
   {
    "duration": 743,
    "start_time": "2024-09-04T13:19:01.371Z"
   },
   {
    "duration": 102,
    "start_time": "2024-09-04T13:19:02.116Z"
   },
   {
    "duration": 121,
    "start_time": "2024-09-04T13:19:02.219Z"
   },
   {
    "duration": 118,
    "start_time": "2024-09-04T13:19:02.343Z"
   },
   {
    "duration": 25,
    "start_time": "2024-09-04T13:19:02.463Z"
   },
   {
    "duration": 9,
    "start_time": "2024-09-04T13:19:02.489Z"
   },
   {
    "duration": 7,
    "start_time": "2024-09-04T13:19:02.500Z"
   },
   {
    "duration": 3,
    "start_time": "2024-09-04T13:19:02.508Z"
   },
   {
    "duration": 22,
    "start_time": "2024-09-04T13:19:02.513Z"
   },
   {
    "duration": 402,
    "start_time": "2024-09-04T13:19:02.538Z"
   },
   {
    "duration": 64,
    "start_time": "2024-09-04T13:19:02.942Z"
   },
   {
    "duration": 20,
    "start_time": "2024-09-04T13:19:03.008Z"
   },
   {
    "duration": 37,
    "start_time": "2024-09-04T13:19:03.030Z"
   },
   {
    "duration": 24,
    "start_time": "2024-09-04T13:19:03.068Z"
   },
   {
    "duration": 281,
    "start_time": "2024-09-04T13:19:03.094Z"
   },
   {
    "duration": 38,
    "start_time": "2024-09-04T13:19:03.378Z"
   },
   {
    "duration": 23,
    "start_time": "2024-09-04T13:19:03.418Z"
   },
   {
    "duration": 18,
    "start_time": "2024-09-04T13:19:03.442Z"
   },
   {
    "duration": 58,
    "start_time": "2024-09-04T13:19:03.461Z"
   },
   {
    "duration": 34,
    "start_time": "2024-09-04T13:19:03.521Z"
   },
   {
    "duration": 30,
    "start_time": "2024-09-04T13:19:03.557Z"
   },
   {
    "duration": 4,
    "start_time": "2024-09-04T13:19:03.590Z"
   },
   {
    "duration": 3,
    "start_time": "2024-09-04T13:19:03.596Z"
   },
   {
    "duration": 44,
    "start_time": "2024-09-04T13:19:03.601Z"
   },
   {
    "duration": 2,
    "start_time": "2024-09-04T13:19:03.647Z"
   },
   {
    "duration": 70,
    "start_time": "2024-09-04T13:19:03.651Z"
   },
   {
    "duration": 3,
    "start_time": "2024-09-04T13:19:03.723Z"
   },
   {
    "duration": 57,
    "start_time": "2024-09-04T13:19:03.730Z"
   },
   {
    "duration": 2,
    "start_time": "2024-09-04T13:19:03.790Z"
   },
   {
    "duration": 39,
    "start_time": "2024-09-04T13:19:03.794Z"
   },
   {
    "duration": 2,
    "start_time": "2024-09-04T13:19:03.835Z"
   },
   {
    "duration": 48,
    "start_time": "2024-09-04T13:19:03.839Z"
   },
   {
    "duration": 3,
    "start_time": "2024-09-04T13:19:03.888Z"
   },
   {
    "duration": 25,
    "start_time": "2024-09-04T13:19:03.892Z"
   },
   {
    "duration": 2,
    "start_time": "2024-09-04T13:19:03.919Z"
   },
   {
    "duration": 24,
    "start_time": "2024-09-04T13:19:03.923Z"
   },
   {
    "duration": 2,
    "start_time": "2024-09-04T13:19:03.949Z"
   },
   {
    "duration": 59,
    "start_time": "2024-09-04T13:19:03.953Z"
   },
   {
    "duration": 2,
    "start_time": "2024-09-04T13:19:04.014Z"
   },
   {
    "duration": 22,
    "start_time": "2024-09-04T13:19:04.018Z"
   },
   {
    "duration": 4,
    "start_time": "2024-09-04T13:19:51.650Z"
   },
   {
    "duration": 729,
    "start_time": "2024-09-04T13:19:56.956Z"
   },
   {
    "duration": 93,
    "start_time": "2024-09-04T13:19:57.688Z"
   },
   {
    "duration": 135,
    "start_time": "2024-09-04T13:19:57.786Z"
   },
   {
    "duration": 117,
    "start_time": "2024-09-04T13:19:57.924Z"
   },
   {
    "duration": 18,
    "start_time": "2024-09-04T13:19:58.043Z"
   },
   {
    "duration": 9,
    "start_time": "2024-09-04T13:19:58.062Z"
   },
   {
    "duration": 19,
    "start_time": "2024-09-04T13:19:58.072Z"
   },
   {
    "duration": 2,
    "start_time": "2024-09-04T13:19:58.093Z"
   },
   {
    "duration": 22,
    "start_time": "2024-09-04T13:19:58.097Z"
   },
   {
    "duration": 405,
    "start_time": "2024-09-04T13:19:58.121Z"
   },
   {
    "duration": 64,
    "start_time": "2024-09-04T13:19:58.528Z"
   },
   {
    "duration": 20,
    "start_time": "2024-09-04T13:19:58.594Z"
   },
   {
    "duration": 36,
    "start_time": "2024-09-04T13:19:58.615Z"
   },
   {
    "duration": 7,
    "start_time": "2024-09-04T13:19:58.655Z"
   },
   {
    "duration": 263,
    "start_time": "2024-09-04T13:19:58.664Z"
   },
   {
    "duration": 35,
    "start_time": "2024-09-04T13:19:58.928Z"
   },
   {
    "duration": 21,
    "start_time": "2024-09-04T13:19:58.965Z"
   },
   {
    "duration": 18,
    "start_time": "2024-09-04T13:19:58.987Z"
   },
   {
    "duration": 44,
    "start_time": "2024-09-04T13:19:59.007Z"
   },
   {
    "duration": 50,
    "start_time": "2024-09-04T13:19:59.053Z"
   },
   {
    "duration": 13,
    "start_time": "2024-09-04T13:19:59.104Z"
   },
   {
    "duration": 4,
    "start_time": "2024-09-04T13:19:59.119Z"
   },
   {
    "duration": 4,
    "start_time": "2024-09-04T13:19:59.124Z"
   },
   {
    "duration": 63,
    "start_time": "2024-09-04T13:19:59.130Z"
   },
   {
    "duration": 4,
    "start_time": "2024-09-04T13:19:59.195Z"
   },
   {
    "duration": 42,
    "start_time": "2024-09-04T13:19:59.201Z"
   },
   {
    "duration": 4,
    "start_time": "2024-09-04T13:19:59.245Z"
   },
   {
    "duration": 61,
    "start_time": "2024-09-04T13:19:59.250Z"
   },
   {
    "duration": 2,
    "start_time": "2024-09-04T13:19:59.313Z"
   },
   {
    "duration": 38,
    "start_time": "2024-09-04T13:19:59.318Z"
   },
   {
    "duration": 2,
    "start_time": "2024-09-04T13:19:59.358Z"
   },
   {
    "duration": 47,
    "start_time": "2024-09-04T13:19:59.362Z"
   },
   {
    "duration": 3,
    "start_time": "2024-09-04T13:19:59.410Z"
   },
   {
    "duration": 24,
    "start_time": "2024-09-04T13:19:59.414Z"
   },
   {
    "duration": 2,
    "start_time": "2024-09-04T13:19:59.440Z"
   },
   {
    "duration": 49,
    "start_time": "2024-09-04T13:19:59.444Z"
   },
   {
    "duration": 2,
    "start_time": "2024-09-04T13:19:59.495Z"
   },
   {
    "duration": 22,
    "start_time": "2024-09-04T13:19:59.499Z"
   },
   {
    "duration": 3,
    "start_time": "2024-09-04T13:19:59.523Z"
   },
   {
    "duration": 21,
    "start_time": "2024-09-04T13:19:59.527Z"
   },
   {
    "duration": 44,
    "start_time": "2024-09-04T13:23:10.319Z"
   },
   {
    "duration": 44,
    "start_time": "2024-09-04T13:23:26.134Z"
   },
   {
    "duration": 44,
    "start_time": "2024-09-04T13:23:32.920Z"
   },
   {
    "duration": 43,
    "start_time": "2024-09-04T13:23:38.229Z"
   },
   {
    "duration": 38,
    "start_time": "2024-09-04T13:23:44.453Z"
   },
   {
    "duration": 26,
    "start_time": "2024-09-04T13:23:52.342Z"
   },
   {
    "duration": 25,
    "start_time": "2024-09-04T13:23:57.556Z"
   },
   {
    "duration": 25,
    "start_time": "2024-09-04T13:24:02.813Z"
   },
   {
    "duration": 24,
    "start_time": "2024-09-04T13:24:07.778Z"
   },
   {
    "duration": 23,
    "start_time": "2024-09-04T13:24:15.154Z"
   },
   {
    "duration": 750,
    "start_time": "2024-09-04T13:28:16.065Z"
   },
   {
    "duration": 102,
    "start_time": "2024-09-04T13:28:16.818Z"
   },
   {
    "duration": 125,
    "start_time": "2024-09-04T13:28:16.922Z"
   },
   {
    "duration": 117,
    "start_time": "2024-09-04T13:28:17.049Z"
   },
   {
    "duration": 23,
    "start_time": "2024-09-04T13:28:17.168Z"
   },
   {
    "duration": 10,
    "start_time": "2024-09-04T13:28:17.193Z"
   },
   {
    "duration": 7,
    "start_time": "2024-09-04T13:28:17.204Z"
   },
   {
    "duration": 3,
    "start_time": "2024-09-04T13:28:17.212Z"
   },
   {
    "duration": 21,
    "start_time": "2024-09-04T13:28:17.217Z"
   },
   {
    "duration": 414,
    "start_time": "2024-09-04T13:28:17.242Z"
   },
   {
    "duration": 59,
    "start_time": "2024-09-04T13:28:17.658Z"
   },
   {
    "duration": 19,
    "start_time": "2024-09-04T13:28:17.719Z"
   },
   {
    "duration": 53,
    "start_time": "2024-09-04T13:28:17.740Z"
   },
   {
    "duration": 7,
    "start_time": "2024-09-04T13:28:17.795Z"
   },
   {
    "duration": 252,
    "start_time": "2024-09-04T13:28:17.804Z"
   },
   {
    "duration": 35,
    "start_time": "2024-09-04T13:28:18.058Z"
   },
   {
    "duration": 23,
    "start_time": "2024-09-04T13:28:18.094Z"
   },
   {
    "duration": 20,
    "start_time": "2024-09-04T13:28:18.120Z"
   },
   {
    "duration": 58,
    "start_time": "2024-09-04T13:28:18.141Z"
   },
   {
    "duration": 35,
    "start_time": "2024-09-04T13:28:18.201Z"
   },
   {
    "duration": 13,
    "start_time": "2024-09-04T13:28:18.238Z"
   },
   {
    "duration": 3,
    "start_time": "2024-09-04T13:28:18.253Z"
   },
   {
    "duration": 29,
    "start_time": "2024-09-04T13:28:18.258Z"
   },
   {
    "duration": 42,
    "start_time": "2024-09-04T13:28:18.288Z"
   },
   {
    "duration": 2,
    "start_time": "2024-09-04T13:28:18.332Z"
   },
   {
    "duration": 59,
    "start_time": "2024-09-04T13:28:18.336Z"
   },
   {
    "duration": 3,
    "start_time": "2024-09-04T13:28:18.396Z"
   },
   {
    "duration": 40,
    "start_time": "2024-09-04T13:28:18.402Z"
   },
   {
    "duration": 3,
    "start_time": "2024-09-04T13:28:18.444Z"
   },
   {
    "duration": 62,
    "start_time": "2024-09-04T13:28:18.448Z"
   },
   {
    "duration": 2,
    "start_time": "2024-09-04T13:28:18.512Z"
   },
   {
    "duration": 27,
    "start_time": "2024-09-04T13:28:18.516Z"
   },
   {
    "duration": 4,
    "start_time": "2024-09-04T13:28:18.545Z"
   },
   {
    "duration": 40,
    "start_time": "2024-09-04T13:28:18.551Z"
   },
   {
    "duration": 2,
    "start_time": "2024-09-04T13:28:18.593Z"
   },
   {
    "duration": 25,
    "start_time": "2024-09-04T13:28:18.596Z"
   },
   {
    "duration": 4,
    "start_time": "2024-09-04T13:28:18.623Z"
   },
   {
    "duration": 23,
    "start_time": "2024-09-04T13:28:18.628Z"
   },
   {
    "duration": 2,
    "start_time": "2024-09-04T13:28:18.653Z"
   },
   {
    "duration": 22,
    "start_time": "2024-09-04T13:28:18.687Z"
   },
   {
    "duration": 739,
    "start_time": "2024-09-04T13:33:06.882Z"
   },
   {
    "duration": 102,
    "start_time": "2024-09-04T13:33:07.624Z"
   },
   {
    "duration": 128,
    "start_time": "2024-09-04T13:33:07.728Z"
   },
   {
    "duration": 114,
    "start_time": "2024-09-04T13:33:07.863Z"
   },
   {
    "duration": 19,
    "start_time": "2024-09-04T13:33:07.980Z"
   },
   {
    "duration": 10,
    "start_time": "2024-09-04T13:33:08.000Z"
   },
   {
    "duration": 6,
    "start_time": "2024-09-04T13:33:08.011Z"
   },
   {
    "duration": 2,
    "start_time": "2024-09-04T13:33:08.019Z"
   },
   {
    "duration": 22,
    "start_time": "2024-09-04T13:33:08.023Z"
   },
   {
    "duration": 423,
    "start_time": "2024-09-04T13:33:08.049Z"
   },
   {
    "duration": 59,
    "start_time": "2024-09-04T13:33:08.474Z"
   },
   {
    "duration": 20,
    "start_time": "2024-09-04T13:33:08.535Z"
   },
   {
    "duration": 57,
    "start_time": "2024-09-04T13:33:08.556Z"
   },
   {
    "duration": 8,
    "start_time": "2024-09-04T13:33:08.616Z"
   },
   {
    "duration": 302,
    "start_time": "2024-09-04T13:33:08.625Z"
   },
   {
    "duration": 36,
    "start_time": "2024-09-04T13:33:08.929Z"
   },
   {
    "duration": 22,
    "start_time": "2024-09-04T13:33:08.967Z"
   },
   {
    "duration": 18,
    "start_time": "2024-09-04T13:33:08.990Z"
   },
   {
    "duration": 45,
    "start_time": "2024-09-04T13:33:09.010Z"
   },
   {
    "duration": 52,
    "start_time": "2024-09-04T13:33:09.057Z"
   },
   {
    "duration": 13,
    "start_time": "2024-09-04T13:33:09.111Z"
   },
   {
    "duration": 4,
    "start_time": "2024-09-04T13:33:09.126Z"
   },
   {
    "duration": 3,
    "start_time": "2024-09-04T13:33:09.131Z"
   },
   {
    "duration": 67,
    "start_time": "2024-09-04T13:33:09.136Z"
   },
   {
    "duration": 3,
    "start_time": "2024-09-04T13:33:09.204Z"
   },
   {
    "duration": 41,
    "start_time": "2024-09-04T13:33:09.209Z"
   },
   {
    "duration": 2,
    "start_time": "2024-09-04T13:33:09.252Z"
   },
   {
    "duration": 60,
    "start_time": "2024-09-04T13:33:09.258Z"
   },
   {
    "duration": 2,
    "start_time": "2024-09-04T13:33:09.320Z"
   },
   {
    "duration": 39,
    "start_time": "2024-09-04T13:33:09.324Z"
   },
   {
    "duration": 2,
    "start_time": "2024-09-04T13:33:09.365Z"
   },
   {
    "duration": 42,
    "start_time": "2024-09-04T13:33:09.368Z"
   },
   {
    "duration": 2,
    "start_time": "2024-09-04T13:33:09.412Z"
   },
   {
    "duration": 23,
    "start_time": "2024-09-04T13:33:09.416Z"
   },
   {
    "duration": 2,
    "start_time": "2024-09-04T13:33:09.441Z"
   },
   {
    "duration": 53,
    "start_time": "2024-09-04T13:33:09.445Z"
   },
   {
    "duration": 2,
    "start_time": "2024-09-04T13:33:09.500Z"
   },
   {
    "duration": 23,
    "start_time": "2024-09-04T13:33:09.503Z"
   },
   {
    "duration": 4,
    "start_time": "2024-09-04T13:33:09.527Z"
   },
   {
    "duration": 21,
    "start_time": "2024-09-04T13:33:09.533Z"
   },
   {
    "duration": 733,
    "start_time": "2024-09-06T00:25:15.418Z"
   },
   {
    "duration": 145,
    "start_time": "2024-09-06T00:25:16.153Z"
   },
   {
    "duration": 119,
    "start_time": "2024-09-06T00:25:16.299Z"
   },
   {
    "duration": 120,
    "start_time": "2024-09-06T00:25:16.420Z"
   },
   {
    "duration": 14,
    "start_time": "2024-09-06T00:25:16.544Z"
   },
   {
    "duration": 9,
    "start_time": "2024-09-06T00:25:16.560Z"
   },
   {
    "duration": 6,
    "start_time": "2024-09-06T00:25:16.586Z"
   },
   {
    "duration": 2,
    "start_time": "2024-09-06T00:25:16.594Z"
   },
   {
    "duration": 22,
    "start_time": "2024-09-06T00:25:16.598Z"
   },
   {
    "duration": 401,
    "start_time": "2024-09-06T00:25:16.622Z"
   },
   {
    "duration": 68,
    "start_time": "2024-09-06T00:25:17.027Z"
   },
   {
    "duration": 19,
    "start_time": "2024-09-06T00:25:17.098Z"
   },
   {
    "duration": 38,
    "start_time": "2024-09-06T00:25:17.118Z"
   },
   {
    "duration": 27,
    "start_time": "2024-09-06T00:25:17.160Z"
   },
   {
    "duration": 246,
    "start_time": "2024-09-06T00:25:17.189Z"
   },
   {
    "duration": 35,
    "start_time": "2024-09-06T00:25:17.437Z"
   },
   {
    "duration": 21,
    "start_time": "2024-09-06T00:25:17.474Z"
   },
   {
    "duration": 17,
    "start_time": "2024-09-06T00:25:17.497Z"
   },
   {
    "duration": 44,
    "start_time": "2024-09-06T00:25:17.516Z"
   },
   {
    "duration": 51,
    "start_time": "2024-09-06T00:25:17.561Z"
   },
   {
    "duration": 14,
    "start_time": "2024-09-06T00:25:17.613Z"
   },
   {
    "duration": 3,
    "start_time": "2024-09-06T00:25:17.630Z"
   },
   {
    "duration": 2,
    "start_time": "2024-09-06T00:25:17.635Z"
   },
   {
    "duration": 68,
    "start_time": "2024-09-06T00:25:17.639Z"
   },
   {
    "duration": 3,
    "start_time": "2024-09-06T00:25:17.708Z"
   },
   {
    "duration": 41,
    "start_time": "2024-09-06T00:25:17.712Z"
   },
   {
    "duration": 3,
    "start_time": "2024-09-06T00:25:17.755Z"
   },
   {
    "duration": 60,
    "start_time": "2024-09-06T00:25:17.759Z"
   },
   {
    "duration": 2,
    "start_time": "2024-09-06T00:25:17.821Z"
   },
   {
    "duration": 45,
    "start_time": "2024-09-06T00:25:17.825Z"
   },
   {
    "duration": 2,
    "start_time": "2024-09-06T00:25:17.888Z"
   },
   {
    "duration": 25,
    "start_time": "2024-09-06T00:25:17.892Z"
   },
   {
    "duration": 3,
    "start_time": "2024-09-06T00:25:17.919Z"
   },
   {
    "duration": 24,
    "start_time": "2024-09-06T00:25:17.923Z"
   },
   {
    "duration": 2,
    "start_time": "2024-09-06T00:25:17.949Z"
   },
   {
    "duration": 54,
    "start_time": "2024-09-06T00:25:17.953Z"
   },
   {
    "duration": 3,
    "start_time": "2024-09-06T00:25:18.008Z"
   },
   {
    "duration": 23,
    "start_time": "2024-09-06T00:25:18.012Z"
   },
   {
    "duration": 2,
    "start_time": "2024-09-06T00:25:18.037Z"
   },
   {
    "duration": 23,
    "start_time": "2024-09-06T00:25:18.040Z"
   }
  ],
  "kernelspec": {
   "display_name": "Python 3 (ipykernel)",
   "language": "python",
   "name": "python3"
  },
  "language_info": {
   "codemirror_mode": {
    "name": "ipython",
    "version": 3
   },
   "file_extension": ".py",
   "mimetype": "text/x-python",
   "name": "python",
   "nbconvert_exporter": "python",
   "pygments_lexer": "ipython3",
   "version": "3.9.19"
  },
  "toc": {
   "base_numbering": 1,
   "nav_menu": {},
   "number_sections": true,
   "sideBar": true,
   "skip_h1_title": true,
   "title_cell": "Table of Contents",
   "title_sidebar": "Contents",
   "toc_cell": false,
   "toc_position": {},
   "toc_section_display": true,
   "toc_window_display": false
  }
 },
 "nbformat": 4,
 "nbformat_minor": 2
}
